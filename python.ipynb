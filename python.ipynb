{
 "cells": [
  {
   "cell_type": "code",
   "execution_count": 1,
   "metadata": {},
   "outputs": [],
   "source": [
    "a =  ['gulshan','hi','that']"
   ]
  },
  {
   "cell_type": "code",
   "execution_count": 2,
   "metadata": {},
   "outputs": [
    {
     "data": {
      "text/plain": [
       "['gulshan', 'hi', 'that']"
      ]
     },
     "execution_count": 2,
     "metadata": {},
     "output_type": "execute_result"
    }
   ],
   "source": [
    "a"
   ]
  },
  {
   "cell_type": "code",
   "execution_count": 3,
   "metadata": {},
   "outputs": [
    {
     "name": "stdout",
     "output_type": "stream",
     "text": [
      "gulshan hi that\n"
     ]
    }
   ],
   "source": [
    "print(a[0],a[1],a[2])"
   ]
  },
  {
   "cell_type": "code",
   "execution_count": 4,
   "metadata": {},
   "outputs": [
    {
     "name": "stdout",
     "output_type": "stream",
     "text": [
      "gulshan\n",
      "hi\n",
      "that\n"
     ]
    }
   ],
   "source": [
    "for i in a:\n",
    "    print(i)"
   ]
  },
  {
   "cell_type": "code",
   "execution_count": 5,
   "metadata": {},
   "outputs": [],
   "source": [
    "squares = [x**2 for x in range(1, 11)]"
   ]
  },
  {
   "cell_type": "code",
   "execution_count": 6,
   "metadata": {},
   "outputs": [
    {
     "data": {
      "text/plain": [
       "[1, 4, 9, 16, 25, 36, 49, 64, 81, 100]"
      ]
     },
     "execution_count": 6,
     "metadata": {},
     "output_type": "execute_result"
    }
   ],
   "source": [
    "squares"
   ]
  },
  {
   "cell_type": "code",
   "execution_count": 7,
   "metadata": {},
   "outputs": [],
   "source": [
    "dim =  (100,200)"
   ]
  },
  {
   "cell_type": "code",
   "execution_count": 8,
   "metadata": {},
   "outputs": [
    {
     "data": {
      "text/plain": [
       "(101, 200)"
      ]
     },
     "execution_count": 8,
     "metadata": {},
     "output_type": "execute_result"
    }
   ],
   "source": [
    "dim = (101,200)\n",
    "\n",
    "dim"
   ]
  },
  {
   "cell_type": "code",
   "execution_count": 9,
   "metadata": {},
   "outputs": [
    {
     "data": {
      "text/plain": [
       "tuple"
      ]
     },
     "execution_count": 9,
     "metadata": {},
     "output_type": "execute_result"
    }
   ],
   "source": [
    "type(dim)"
   ]
  },
  {
   "cell_type": "code",
   "execution_count": 10,
   "metadata": {},
   "outputs": [],
   "source": [
    "d =  {'gulshan':23,'gullu':18}"
   ]
  },
  {
   "cell_type": "code",
   "execution_count": 11,
   "metadata": {},
   "outputs": [
    {
     "data": {
      "text/plain": [
       "{'gulshan': 23, 'gullu': 18}"
      ]
     },
     "execution_count": 11,
     "metadata": {},
     "output_type": "execute_result"
    }
   ],
   "source": [
    "d"
   ]
  },
  {
   "cell_type": "code",
   "execution_count": 12,
   "metadata": {},
   "outputs": [
    {
     "name": "stdout",
     "output_type": "stream",
     "text": [
      "gulshan is 23\n",
      "gullu is 18\n"
     ]
    }
   ],
   "source": [
    "for name , age in d.items():\n",
    "    print(name+ ' is '+ str(age))"
   ]
  },
  {
   "cell_type": "code",
   "execution_count": 13,
   "metadata": {},
   "outputs": [],
   "source": [
    "a.append('father')"
   ]
  },
  {
   "cell_type": "code",
   "execution_count": 14,
   "metadata": {},
   "outputs": [
    {
     "data": {
      "text/plain": [
       "['gulshan', 'hi', 'that', 'father']"
      ]
     },
     "execution_count": 14,
     "metadata": {},
     "output_type": "execute_result"
    }
   ],
   "source": [
    "a"
   ]
  },
  {
   "cell_type": "code",
   "execution_count": 15,
   "metadata": {},
   "outputs": [],
   "source": [
    "a.insert(2,'u')\n",
    "a.insert(3,'can')\n",
    "a.insert(4,'do')\n",
    "a.insert(5,'it')"
   ]
  },
  {
   "cell_type": "code",
   "execution_count": 16,
   "metadata": {},
   "outputs": [
    {
     "data": {
      "text/plain": [
       "['gulshan', 'hi', 'u', 'can', 'do', 'it', 'that', 'father']"
      ]
     },
     "execution_count": 16,
     "metadata": {},
     "output_type": "execute_result"
    }
   ],
   "source": [
    "a"
   ]
  },
  {
   "cell_type": "code",
   "execution_count": 17,
   "metadata": {},
   "outputs": [],
   "source": [
    "del a[-2]"
   ]
  },
  {
   "cell_type": "code",
   "execution_count": 18,
   "metadata": {},
   "outputs": [
    {
     "data": {
      "text/plain": [
       "['gulshan', 'hi', 'u', 'can', 'do', 'it', 'father']"
      ]
     },
     "execution_count": 18,
     "metadata": {},
     "output_type": "execute_result"
    }
   ],
   "source": [
    "a"
   ]
  },
  {
   "cell_type": "code",
   "execution_count": 19,
   "metadata": {},
   "outputs": [],
   "source": [
    "a.remove('father')"
   ]
  },
  {
   "cell_type": "code",
   "execution_count": 20,
   "metadata": {},
   "outputs": [
    {
     "data": {
      "text/plain": [
       "['gulshan', 'hi', 'u', 'can', 'do', 'it']"
      ]
     },
     "execution_count": 20,
     "metadata": {},
     "output_type": "execute_result"
    }
   ],
   "source": [
    "a"
   ]
  },
  {
   "cell_type": "code",
   "execution_count": 21,
   "metadata": {},
   "outputs": [
    {
     "data": {
      "text/plain": [
       "'it'"
      ]
     },
     "execution_count": 21,
     "metadata": {},
     "output_type": "execute_result"
    }
   ],
   "source": [
    "a.pop()"
   ]
  },
  {
   "cell_type": "code",
   "execution_count": 22,
   "metadata": {},
   "outputs": [
    {
     "data": {
      "text/plain": [
       "['gulshan', 'hi', 'u', 'can', 'do']"
      ]
     },
     "execution_count": 22,
     "metadata": {},
     "output_type": "execute_result"
    }
   ],
   "source": [
    "a"
   ]
  },
  {
   "cell_type": "code",
   "execution_count": 23,
   "metadata": {},
   "outputs": [
    {
     "data": {
      "text/plain": [
       "['do', 'can', 'u', 'hi', 'gulshan']"
      ]
     },
     "execution_count": 23,
     "metadata": {},
     "output_type": "execute_result"
    }
   ],
   "source": [
    "a[::-1]"
   ]
  },
  {
   "cell_type": "code",
   "execution_count": 24,
   "metadata": {},
   "outputs": [],
   "source": [
    "a.sort()"
   ]
  },
  {
   "cell_type": "code",
   "execution_count": 25,
   "metadata": {},
   "outputs": [
    {
     "name": "stdout",
     "output_type": "stream",
     "text": [
      "can\n",
      "do\n",
      "gulshan\n",
      "hi\n",
      "u\n"
     ]
    }
   ],
   "source": [
    "\n",
    "for name in a:\n",
    "    print(name)"
   ]
  },
  {
   "cell_type": "code",
   "execution_count": 26,
   "metadata": {},
   "outputs": [
    {
     "data": {
      "text/plain": [
       "'for number in range(0,1000):\\n    print(number)'"
      ]
     },
     "execution_count": 26,
     "metadata": {},
     "output_type": "execute_result"
    }
   ],
   "source": [
    "'''for number in range(0,1000):\n",
    "    print(number)'''"
   ]
  },
  {
   "cell_type": "code",
   "execution_count": 27,
   "metadata": {},
   "outputs": [],
   "source": [
    "ages =  [5,25,12,36,45,13,78,6,15,46,11,10,3,9]"
   ]
  },
  {
   "cell_type": "code",
   "execution_count": 28,
   "metadata": {},
   "outputs": [
    {
     "data": {
      "text/plain": [
       "3"
      ]
     },
     "execution_count": 28,
     "metadata": {},
     "output_type": "execute_result"
    }
   ],
   "source": [
    "min(ages)"
   ]
  },
  {
   "cell_type": "code",
   "execution_count": 29,
   "metadata": {},
   "outputs": [
    {
     "data": {
      "text/plain": [
       "78"
      ]
     },
     "execution_count": 29,
     "metadata": {},
     "output_type": "execute_result"
    }
   ],
   "source": [
    "max(ages)"
   ]
  },
  {
   "cell_type": "code",
   "execution_count": 30,
   "metadata": {},
   "outputs": [
    {
     "data": {
      "text/plain": [
       "314"
      ]
     },
     "execution_count": 30,
     "metadata": {},
     "output_type": "execute_result"
    }
   ],
   "source": [
    "sum(ages)"
   ]
  },
  {
   "cell_type": "code",
   "execution_count": 31,
   "metadata": {},
   "outputs": [
    {
     "data": {
      "text/plain": [
       "[5, 25, 12]"
      ]
     },
     "execution_count": 31,
     "metadata": {},
     "output_type": "execute_result"
    }
   ],
   "source": [
    "ages[:3]"
   ]
  },
  {
   "cell_type": "code",
   "execution_count": 32,
   "metadata": {},
   "outputs": [
    {
     "data": {
      "text/plain": [
       "[5, 25, 12, 36, 45, 13, 78, 6, 15]"
      ]
     },
     "execution_count": 32,
     "metadata": {},
     "output_type": "execute_result"
    }
   ],
   "source": [
    "ages[:-5]"
   ]
  },
  {
   "cell_type": "code",
   "execution_count": 33,
   "metadata": {},
   "outputs": [],
   "source": [
    "b =  ages[:]"
   ]
  },
  {
   "cell_type": "code",
   "execution_count": 34,
   "metadata": {},
   "outputs": [
    {
     "data": {
      "text/plain": [
       "[5, 25, 12, 36, 45, 13, 78, 6, 15, 46, 11, 10, 3, 9]"
      ]
     },
     "execution_count": 34,
     "metadata": {},
     "output_type": "execute_result"
    }
   ],
   "source": [
    "b"
   ]
  },
  {
   "cell_type": "code",
   "execution_count": 35,
   "metadata": {},
   "outputs": [],
   "source": [
    "b.sort()"
   ]
  },
  {
   "cell_type": "code",
   "execution_count": 36,
   "metadata": {},
   "outputs": [
    {
     "data": {
      "text/plain": [
       "[3, 5, 6, 9, 10, 11, 12, 13, 15, 25, 36, 45, 46, 78]"
      ]
     },
     "execution_count": 36,
     "metadata": {},
     "output_type": "execute_result"
    }
   ],
   "source": [
    "b"
   ]
  },
  {
   "cell_type": "code",
   "execution_count": 37,
   "metadata": {},
   "outputs": [],
   "source": [
    "su = [x**2 for x in range(1,11)]"
   ]
  },
  {
   "cell_type": "code",
   "execution_count": 38,
   "metadata": {},
   "outputs": [
    {
     "data": {
      "text/plain": [
       "[1, 4, 9, 16, 25, 36, 49, 64, 81, 100]"
      ]
     },
     "execution_count": 38,
     "metadata": {},
     "output_type": "execute_result"
    }
   ],
   "source": [
    "su"
   ]
  },
  {
   "cell_type": "code",
   "execution_count": 39,
   "metadata": {},
   "outputs": [],
   "source": [
    "upper =  [a.upper() for  a in a]"
   ]
  },
  {
   "cell_type": "code",
   "execution_count": 40,
   "metadata": {},
   "outputs": [
    {
     "data": {
      "text/plain": [
       "['CAN', 'DO', 'GULSHAN', 'HI', 'U']"
      ]
     },
     "execution_count": 40,
     "metadata": {},
     "output_type": "execute_result"
    }
   ],
   "source": [
    "upper"
   ]
  },
  {
   "cell_type": "code",
   "execution_count": 41,
   "metadata": {},
   "outputs": [],
   "source": [
    "upper[2] =  'SHARMA'"
   ]
  },
  {
   "cell_type": "code",
   "execution_count": 42,
   "metadata": {},
   "outputs": [
    {
     "data": {
      "text/plain": [
       "['CAN', 'DO', 'SHARMA', 'HI', 'U']"
      ]
     },
     "execution_count": 42,
     "metadata": {},
     "output_type": "execute_result"
    }
   ],
   "source": [
    "upper"
   ]
  },
  {
   "cell_type": "code",
   "execution_count": 43,
   "metadata": {},
   "outputs": [],
   "source": [
    "#dictonary\n",
    "e =  {'nillu':25,'pillu':24,'gullu':23}"
   ]
  },
  {
   "cell_type": "code",
   "execution_count": 44,
   "metadata": {},
   "outputs": [
    {
     "data": {
      "text/plain": [
       "25"
      ]
     },
     "execution_count": 44,
     "metadata": {},
     "output_type": "execute_result"
    }
   ],
   "source": [
    "e.get('nillu')"
   ]
  },
  {
   "cell_type": "code",
   "execution_count": 45,
   "metadata": {},
   "outputs": [],
   "source": [
    "e['pullu'] = 23"
   ]
  },
  {
   "cell_type": "code",
   "execution_count": 46,
   "metadata": {},
   "outputs": [
    {
     "data": {
      "text/plain": [
       "{'nillu': 25, 'pillu': 24, 'gullu': 23, 'pullu': 23}"
      ]
     },
     "execution_count": 46,
     "metadata": {},
     "output_type": "execute_result"
    }
   ],
   "source": [
    "e"
   ]
  },
  {
   "cell_type": "code",
   "execution_count": 47,
   "metadata": {},
   "outputs": [],
   "source": [
    "del e['pillu']"
   ]
  },
  {
   "cell_type": "code",
   "execution_count": 48,
   "metadata": {},
   "outputs": [
    {
     "data": {
      "text/plain": [
       "{'nillu': 25, 'gullu': 23, 'pullu': 23}"
      ]
     },
     "execution_count": 48,
     "metadata": {},
     "output_type": "execute_result"
    }
   ],
   "source": [
    "e"
   ]
  },
  {
   "cell_type": "code",
   "execution_count": 49,
   "metadata": {},
   "outputs": [
    {
     "data": {
      "text/plain": [
       "dict_keys(['nillu', 'gullu', 'pullu'])"
      ]
     },
     "execution_count": 49,
     "metadata": {},
     "output_type": "execute_result"
    }
   ],
   "source": [
    "e.keys()"
   ]
  },
  {
   "cell_type": "code",
   "execution_count": 50,
   "metadata": {},
   "outputs": [
    {
     "data": {
      "text/plain": [
       "dict_values([25, 23, 23])"
      ]
     },
     "execution_count": 50,
     "metadata": {},
     "output_type": "execute_result"
    }
   ],
   "source": [
    "e.values()"
   ]
  },
  {
   "cell_type": "code",
   "execution_count": 51,
   "metadata": {},
   "outputs": [
    {
     "data": {
      "text/plain": [
       "dict_items([('nillu', 25), ('gullu', 23), ('pullu', 23)])"
      ]
     },
     "execution_count": 51,
     "metadata": {},
     "output_type": "execute_result"
    }
   ],
   "source": [
    "e.items()"
   ]
  },
  {
   "cell_type": "code",
   "execution_count": 52,
   "metadata": {},
   "outputs": [],
   "source": [
    "len(e)\n",
    "d = {'illu':25,'tillu':24,'kullu':23}"
   ]
  },
  {
   "cell_type": "code",
   "execution_count": 53,
   "metadata": {},
   "outputs": [],
   "source": [
    "user= []"
   ]
  },
  {
   "cell_type": "code",
   "execution_count": 54,
   "metadata": {},
   "outputs": [],
   "source": [
    "user.append(e)\n",
    "user.append(d)"
   ]
  },
  {
   "cell_type": "code",
   "execution_count": 55,
   "metadata": {},
   "outputs": [
    {
     "data": {
      "text/plain": [
       "[{'nillu': 25, 'gullu': 23, 'pullu': 23},\n",
       " {'illu': 25, 'tillu': 24, 'kullu': 23}]"
      ]
     },
     "execution_count": 55,
     "metadata": {},
     "output_type": "execute_result"
    }
   ],
   "source": [
    "user"
   ]
  },
  {
   "cell_type": "code",
   "execution_count": 56,
   "metadata": {},
   "outputs": [
    {
     "name": "stdout",
     "output_type": "stream",
     "text": [
      "nillu 25\n",
      "gullu 23\n",
      "pullu 23\n",
      "illu 25\n",
      "tillu 24\n",
      "kullu 23\n"
     ]
    }
   ],
   "source": [
    "for u in user:\n",
    "    for u,v in u.items():\n",
    "        print(u+ ' '+ str(v))"
   ]
  },
  {
   "cell_type": "code",
   "execution_count": 57,
   "metadata": {},
   "outputs": [],
   "source": [
    "c = {'names':user,'name':user[1]}"
   ]
  },
  {
   "cell_type": "code",
   "execution_count": 58,
   "metadata": {},
   "outputs": [
    {
     "data": {
      "text/plain": [
       "{'names': [{'nillu': 25, 'gullu': 23, 'pullu': 23},\n",
       "  {'illu': 25, 'tillu': 24, 'kullu': 23}],\n",
       " 'name': {'illu': 25, 'tillu': 24, 'kullu': 23}}"
      ]
     },
     "execution_count": 58,
     "metadata": {},
     "output_type": "execute_result"
    }
   ],
   "source": [
    "c"
   ]
  },
  {
   "cell_type": "code",
   "execution_count": 59,
   "metadata": {},
   "outputs": [
    {
     "name": "stdout",
     "output_type": "stream",
     "text": [
      "names:\n",
      "nillu 25\n",
      "gullu 23\n",
      "pullu 23\n",
      "illu 25\n",
      "tillu 24\n",
      "kullu 23\n",
      "name:\n",
      "illu 25\n",
      "tillu 24\n",
      "kullu 23\n"
     ]
    }
   ],
   "source": [
    "for n , val in c.items():\n",
    "    print(n+ ':' )\n",
    "    #print(type(val))\n",
    "    if type(val)== list:\n",
    "        for v in val:\n",
    "            for v,b in v.items():\n",
    "                print(v,b)\n",
    "    else:\n",
    "        for v,b in val.items():\n",
    "            print(v,b)\n",
    "\n",
    "            \n",
    "        "
   ]
  },
  {
   "cell_type": "code",
   "execution_count": 60,
   "metadata": {},
   "outputs": [
    {
     "name": "stdout",
     "output_type": "stream",
     "text": [
      "jen: \n",
      "- python\n",
      "- ruby\n",
      "sarah: \n",
      "- c\n",
      "edward: \n",
      "- ruby\n",
      "- go\n",
      "phil: \n",
      "- python\n",
      "- haskell\n"
     ]
    }
   ],
   "source": [
    "from collections import OrderedDict\n",
    "fav_languages = OrderedDict({\n",
    "'jen': ['python', 'ruby'],\n",
    "'sarah': ['c'],\n",
    "'edward': ['ruby', 'go'],\n",
    "'phil': ['python', 'haskell'],\n",
    "})\n",
    "# Show all responses for each person.\n",
    "for name, langs in fav_languages.items():\n",
    "    print(name + \": \")\n",
    "    for lang in langs:\n",
    "        print(\"- \" + lang)"
   ]
  },
  {
   "cell_type": "code",
   "execution_count": 61,
   "metadata": {},
   "outputs": [
    {
     "data": {
      "text/plain": [
       "'aliens = []\\n# Make a million green aliens, worth 5 points\\n# each. Have them all start in one row.\\nfor alien_num in range(1000000):\\n    new_alien = {}\\n    new_alien[\\'color\\'] = \\'green\\'\\n    new_alien[\\'points\\'] = 5\\n    new_alien[\\'x\\'] = 20 * alien_num\\n    new_alien[\\'y\\'] = 0\\n    aliens.append(new_alien)\\n# Prove the list contains a million aliens.\\nnum_aliens = len(aliens)\\nprint(\"Number of aliens created:\")\\nprint(num_aliens)'"
      ]
     },
     "execution_count": 61,
     "metadata": {},
     "output_type": "execute_result"
    }
   ],
   "source": [
    "'''aliens = []\n",
    "# Make a million green aliens, worth 5 points\n",
    "# each. Have them all start in one row.\n",
    "for alien_num in range(1000000):\n",
    "    new_alien = {}\n",
    "    new_alien['color'] = 'green'\n",
    "    new_alien['points'] = 5\n",
    "    new_alien['x'] = 20 * alien_num\n",
    "    new_alien['y'] = 0\n",
    "    aliens.append(new_alien)\n",
    "# Prove the list contains a million aliens.\n",
    "num_aliens = len(aliens)\n",
    "print(\"Number of aliens created:\")\n",
    "print(num_aliens)'''"
   ]
  },
  {
   "cell_type": "code",
   "execution_count": 62,
   "metadata": {},
   "outputs": [],
   "source": [
    "play = []"
   ]
  },
  {
   "cell_type": "code",
   "execution_count": 63,
   "metadata": {},
   "outputs": [
    {
     "name": "stdout",
     "output_type": "stream",
     "text": [
      "u need player\n"
     ]
    }
   ],
   "source": [
    "if play:\n",
    "    for p in play:\n",
    "        print(p.title())\n",
    "else:\n",
    "    print('u need player')"
   ]
  },
  {
   "cell_type": "code",
   "execution_count": 64,
   "metadata": {},
   "outputs": [
    {
     "name": "stdout",
     "output_type": "stream",
     "text": [
      "how old r u \n"
     ]
    },
    {
     "ename": "ValueError",
     "evalue": "invalid literal for int() with base 10: ''",
     "output_type": "error",
     "traceback": [
      "\u001b[0;31m---------------------------------------------------------------------------\u001b[0m",
      "\u001b[0;31mValueError\u001b[0m                                Traceback (most recent call last)",
      "\u001b[0;32m<ipython-input-64-8c80ffc9be4b>\u001b[0m in \u001b[0;36m<module>\u001b[0;34m\u001b[0m\n\u001b[0;32m----> 1\u001b[0;31m \u001b[0mage\u001b[0m \u001b[0;34m=\u001b[0m \u001b[0mint\u001b[0m\u001b[0;34m(\u001b[0m\u001b[0minput\u001b[0m\u001b[0;34m(\u001b[0m\u001b[0;34m\"how old r u \"\u001b[0m\u001b[0;34m)\u001b[0m\u001b[0;34m)\u001b[0m\u001b[0;34m\u001b[0m\u001b[0;34m\u001b[0m\u001b[0m\n\u001b[0m\u001b[1;32m      2\u001b[0m \u001b[0;32mif\u001b[0m \u001b[0mage\u001b[0m \u001b[0;34m>=\u001b[0m \u001b[0;36m18\u001b[0m\u001b[0;34m:\u001b[0m\u001b[0;34m\u001b[0m\u001b[0;34m\u001b[0m\u001b[0m\n\u001b[1;32m      3\u001b[0m     \u001b[0mprint\u001b[0m\u001b[0;34m(\u001b[0m\u001b[0;34m\"you can vote \"\u001b[0m\u001b[0;34m)\u001b[0m\u001b[0;34m\u001b[0m\u001b[0;34m\u001b[0m\u001b[0m\n\u001b[1;32m      4\u001b[0m \u001b[0;32melse\u001b[0m\u001b[0;34m:\u001b[0m\u001b[0;34m\u001b[0m\u001b[0;34m\u001b[0m\u001b[0m\n\u001b[1;32m      5\u001b[0m     \u001b[0mprint\u001b[0m\u001b[0;34m(\u001b[0m\u001b[0;34m'u need to wait '\u001b[0m\u001b[0;34m)\u001b[0m\u001b[0;34m\u001b[0m\u001b[0;34m\u001b[0m\u001b[0m\n",
      "\u001b[0;31mValueError\u001b[0m: invalid literal for int() with base 10: ''"
     ]
    }
   ],
   "source": [
    "age = int(input(\"how old r u \"))\n",
    "if age >= 18:\n",
    "    print(\"you can vote \")\n",
    "else:\n",
    "    print('u need to wait ')"
   ]
  },
  {
   "cell_type": "code",
   "execution_count": 65,
   "metadata": {},
   "outputs": [
    {
     "name": "stdout",
     "output_type": "stream",
     "text": [
      "1\n",
      "2\n",
      "3\n",
      "4\n",
      "5\n"
     ]
    }
   ],
   "source": [
    "count =  1\n",
    "while count<= 5:\n",
    "    print(count)\n",
    "    count+= 1"
   ]
  },
  {
   "cell_type": "code",
   "execution_count": 66,
   "metadata": {},
   "outputs": [
    {
     "name": "stdout",
     "output_type": "stream",
     "text": [
      "hi i am gul you can do it \n",
      "\n",
      "hi i am gul you can do it \n",
      "\n",
      "hi i am gul you can do it \n",
      "\n",
      "hi i am gul you can do it quit\n"
     ]
    }
   ],
   "source": [
    "message = \"hi i am gul \"\n",
    "message += \"you can do it\"\n",
    "msg =  \"\"\n",
    "\n",
    "while msg != 'quit':\n",
    "    msg =  input(message+' ')\n",
    "    \n",
    "    if msg != 'quit':\n",
    "        print(msg)"
   ]
  },
  {
   "cell_type": "code",
   "execution_count": 67,
   "metadata": {},
   "outputs": [
    {
     "name": "stdout",
     "output_type": "stream",
     "text": [
      "hi i am gul you can do it quit\n"
     ]
    }
   ],
   "source": [
    "#using flag method\n",
    "message = \"hi i am gul \"\n",
    "message += \"you can do it\"\n",
    "active =  True\n",
    "\n",
    "while active:\n",
    "    msg =  input(message+' ')\n",
    "    \n",
    "    if msg == 'quit':\n",
    "        active =  False\n",
    "    else:\n",
    "        print(msg)"
   ]
  },
  {
   "cell_type": "code",
   "execution_count": 68,
   "metadata": {},
   "outputs": [
    {
     "name": "stdout",
     "output_type": "stream",
     "text": [
      "hi i am gul you can do it quit\n"
     ]
    }
   ],
   "source": [
    "#using break method\n",
    "message = \"hi i am gul \"\n",
    "message += \"you can do it\"\n",
    "active =  True\n",
    "\n",
    "while active:\n",
    "    msg =  input(message+' ')\n",
    "    \n",
    "    if msg == 'quit':\n",
    "        break\n",
    "    else:\n",
    "        print(msg)"
   ]
  },
  {
   "cell_type": "code",
   "execution_count": 69,
   "metadata": {},
   "outputs": [
    {
     "data": {
      "text/plain": [
       "['can', 'do', 'gulshan', 'hi', 'u']"
      ]
     },
     "execution_count": 69,
     "metadata": {},
     "output_type": "execute_result"
    }
   ],
   "source": [
    "a"
   ]
  },
  {
   "cell_type": "code",
   "execution_count": 70,
   "metadata": {},
   "outputs": [
    {
     "name": "stdout",
     "output_type": "stream",
     "text": [
      "hi i am gul you can do it yes\n",
      "hi i am gul you can do it no\n",
      "hi i am gul you can do it quit\n"
     ]
    }
   ],
   "source": [
    "message = \"hi i am gul \"\n",
    "message += \"you can do it\"\n",
    "active =  True\n",
    "\n",
    "while active:\n",
    "    msg =  input(message+ ' ')\n",
    "    new =  []\n",
    "    if msg == 'quit':\n",
    "        break\n",
    "    elif msg in a:\n",
    "        print(\"you can not add\")\n",
    "        continue\n",
    "    else:\n",
    "        new.append(msg)"
   ]
  },
  {
   "cell_type": "code",
   "execution_count": 71,
   "metadata": {},
   "outputs": [
    {
     "data": {
      "text/plain": [
       "[5, 25, 12, 36, 45, 13, 78, 6, 15, 46, 11, 10, 3, 9]"
      ]
     },
     "execution_count": 71,
     "metadata": {},
     "output_type": "execute_result"
    }
   ],
   "source": [
    "ages"
   ]
  },
  {
   "cell_type": "code",
   "execution_count": 72,
   "metadata": {},
   "outputs": [],
   "source": [
    "ages.append(12)"
   ]
  },
  {
   "cell_type": "code",
   "execution_count": 73,
   "metadata": {},
   "outputs": [
    {
     "data": {
      "text/plain": [
       "[5, 25, 12, 36, 45, 13, 78, 6, 15, 46, 11, 10, 3, 9, 12]"
      ]
     },
     "execution_count": 73,
     "metadata": {},
     "output_type": "execute_result"
    }
   ],
   "source": [
    "ages"
   ]
  },
  {
   "cell_type": "code",
   "execution_count": 74,
   "metadata": {},
   "outputs": [],
   "source": [
    "while 12 in ages:\n",
    "    ages.remove(12)"
   ]
  },
  {
   "cell_type": "code",
   "execution_count": 75,
   "metadata": {},
   "outputs": [
    {
     "data": {
      "text/plain": [
       "[5, 25, 36, 45, 13, 78, 6, 15, 46, 11, 10, 3, 9]"
      ]
     },
     "execution_count": 75,
     "metadata": {},
     "output_type": "execute_result"
    }
   ],
   "source": [
    "ages"
   ]
  },
  {
   "cell_type": "code",
   "execution_count": 76,
   "metadata": {},
   "outputs": [
    {
     "name": "stdout",
     "output_type": "stream",
     "text": [
      "hello jassie\n"
     ]
    }
   ],
   "source": [
    "def greet_user(user):\n",
    "    print(\"hello \"+ user)\n",
    "\n",
    "greet_user(\"jassie\")    "
   ]
  },
  {
   "cell_type": "code",
   "execution_count": 77,
   "metadata": {},
   "outputs": [
    {
     "name": "stdout",
     "output_type": "stream",
     "text": [
      "gulshan\n",
      "23\n"
     ]
    }
   ],
   "source": [
    "#positional function\n",
    "def users(age,name):\n",
    "    print(name)\n",
    "    print(age)\n",
    "\n",
    "users(23,'gulshan')    \n",
    "#order matters"
   ]
  },
  {
   "cell_type": "code",
   "execution_count": 78,
   "metadata": {},
   "outputs": [
    {
     "name": "stdout",
     "output_type": "stream",
     "text": [
      "gulshan\n",
      "23\n"
     ]
    }
   ],
   "source": [
    "#keyword function\n",
    "def users(age,name):\n",
    "    print(name)\n",
    "    print(age)\n",
    "\n",
    "users(name= 'gulshan',age=23)    \n",
    "#order dosen't matter"
   ]
  },
  {
   "cell_type": "code",
   "execution_count": 79,
   "metadata": {},
   "outputs": [
    {
     "name": "stdout",
     "output_type": "stream",
     "text": [
      "gulshan\n",
      "23\n"
     ]
    }
   ],
   "source": [
    "#default agrument\n",
    "def use(name, age=23):\n",
    "    print(name)\n",
    "    print(age)\n",
    "\n",
    "use('gulshan')    "
   ]
  },
  {
   "cell_type": "code",
   "execution_count": 80,
   "metadata": {},
   "outputs": [
    {
     "name": "stdout",
     "output_type": "stream",
     "text": [
      "gulshan\n",
      "gullu\n",
      "24\n"
     ]
    }
   ],
   "source": [
    "#none agrument\n",
    "def use(name, age=None):\n",
    "    print(name)\n",
    "    #checking age is empty or not\n",
    "    if age:   \n",
    "        print(age)\n",
    "\n",
    "use('gulshan')  \n",
    "use('gullu',24)"
   ]
  },
  {
   "cell_type": "code",
   "execution_count": 81,
   "metadata": {},
   "outputs": [
    {
     "data": {
      "text/plain": [
       "'Gulshan Sharma'"
      ]
     },
     "execution_count": 81,
     "metadata": {},
     "output_type": "execute_result"
    }
   ],
   "source": [
    "def fullname(first,last):\n",
    "    \n",
    "    name =  first + ' ' +last\n",
    "    return name.title()   # first letter uppercase\n",
    "fullname('gulshan','sharma')"
   ]
  },
  {
   "cell_type": "code",
   "execution_count": 82,
   "metadata": {},
   "outputs": [
    {
     "data": {
      "text/plain": [
       "{'first': 'gulshan', 'last': 'sharma'}"
      ]
     },
     "execution_count": 82,
     "metadata": {},
     "output_type": "execute_result"
    }
   ],
   "source": [
    "def fullname(first,last):\n",
    "    \n",
    "    name =  {'first':first ,'last':last}\n",
    "    return name   # first letter uppercase\n",
    "fullname('gulshan','sharma')"
   ]
  },
  {
   "cell_type": "code",
   "execution_count": 83,
   "metadata": {},
   "outputs": [
    {
     "data": {
      "text/plain": [
       "{'first': 'gullu', 'last': 'sharma', 'age': 23}"
      ]
     },
     "execution_count": 83,
     "metadata": {},
     "output_type": "execute_result"
    }
   ],
   "source": [
    "def fullname(first,last,age=None):\n",
    "    \n",
    "    name =  {'first':first ,'last':last}\n",
    "    if age:\n",
    "        name['age'] = age\n",
    "    return name   # first letter uppercase\n",
    "fullname('gulshan','sharma')\n",
    "fullname('gullu','sharma',23)"
   ]
  },
  {
   "cell_type": "code",
   "execution_count": 84,
   "metadata": {},
   "outputs": [
    {
     "name": "stdout",
     "output_type": "stream",
     "text": [
      "gulshan\n",
      "sharma\n"
     ]
    }
   ],
   "source": [
    "#arbitary argument with postional \n",
    "def how(first,last,*user):\n",
    "    print(first)\n",
    "    print(last)\n",
    "    for user in user:\n",
    "        print(user)\n",
    "\n",
    "how('gulshan','sharma')        "
   ]
  },
  {
   "cell_type": "code",
   "execution_count": 85,
   "metadata": {},
   "outputs": [
    {
     "name": "stdout",
     "output_type": "stream",
     "text": [
      "gullu\n",
      "sharma\n",
      "23\n"
     ]
    }
   ],
   "source": [
    "how('gullu','sharma',23)"
   ]
  },
  {
   "cell_type": "code",
   "execution_count": 86,
   "metadata": {},
   "outputs": [
    {
     "data": {
      "text/plain": [
       "'def make_pizza(size, *toppings):\\n\\n    print(\"\\nMaking a \" + size + \" pizza.\")\\n    print(\"Toppings:\")\\n    for topping in toppings:\\n        print(\"- \" + topping)\\n# Make three pizzas with different toppings.\\nmake_pizza(\\'small\\', \\'pepperoni\\')\\nmake_pizza(\\'large\\', \\'bacon bits\\', \\'pineapple\\')\\nmake_pizza(\\'medium\\', \\'mushrooms\\', \\'peppers\\',\\n\\'onions\\', \\'extra cheese\\')'"
      ]
     },
     "execution_count": 86,
     "metadata": {},
     "output_type": "execute_result"
    }
   ],
   "source": [
    "'''def make_pizza(size, *toppings):\n",
    "\n",
    "    print(\"\\nMaking a \" + size + \" pizza.\")\n",
    "    print(\"Toppings:\")\n",
    "    for topping in toppings:\n",
    "        print(\"- \" + topping)\n",
    "# Make three pizzas with different toppings.\n",
    "make_pizza('small', 'pepperoni')\n",
    "make_pizza('large', 'bacon bits', 'pineapple')\n",
    "make_pizza('medium', 'mushrooms', 'peppers',\n",
    "'onions', 'extra cheese')'''"
   ]
  },
  {
   "cell_type": "code",
   "execution_count": 89,
   "metadata": {},
   "outputs": [
    {
     "name": "stdout",
     "output_type": "stream",
     "text": [
      "gulshan\n",
      "sharma\n",
      "23\n"
     ]
    }
   ],
   "source": [
    "# keyword arbitory arguments\n",
    "def how(first,last,**user):  #**user works as dict.\n",
    "    print(first)\n",
    "    print(last)\n",
    "    for u,v in user.items():\n",
    "        print(v)\n",
    "        \n",
    "how('gulshan','sharma',age=23)        "
   ]
  },
  {
   "cell_type": "code",
   "execution_count": null,
   "metadata": {},
   "outputs": [],
   "source": [
    "class human():\n",
    "    def __init__(self,name,date,year):\n",
    "        self.name =  name\n",
    "        self.date =  date\n",
    "        self.year =  year\n",
    "       \n",
    "    \n",
    "        self."
   ]
  },
  {
   "cell_type": "code",
   "execution_count": 1,
   "metadata": {},
   "outputs": [
    {
     "data": {
      "text/plain": [
       "'gulshan'"
      ]
     },
     "execution_count": 1,
     "metadata": {},
     "output_type": "execute_result"
    }
   ],
   "source": [
    "class human():\n",
    "    var =  'gulshan'\n",
    "    def func(self):\n",
    "        print(\"this is simple class\")\n",
    "    \n",
    "obj =  human()\n",
    "\n",
    "obj.var"
   ]
  },
  {
   "cell_type": "code",
   "execution_count": 2,
   "metadata": {},
   "outputs": [
    {
     "name": "stdout",
     "output_type": "stream",
     "text": [
      "this is simple class\n"
     ]
    }
   ],
   "source": [
    "obj.func()"
   ]
  },
  {
   "cell_type": "code",
   "execution_count": null,
   "metadata": {},
   "outputs": [],
   "source": [
    "class battery():\n",
    "    "
   ]
  },
  {
   "cell_type": "code",
   "execution_count": 11,
   "metadata": {},
   "outputs": [
    {
     "name": "stdout",
     "output_type": "stream",
     "text": [
      "choose an option : 1. push  2. pop 0. quit2\n",
      "stack is empty\n",
      "choose an option : 1. push  2. pop 0. quit1\n",
      "6\n",
      "['6']\n",
      "choose an option : 1. push  2. pop 0. quit1\n",
      "8\n",
      "['6', '8']\n",
      "choose an option : 1. push  2. pop 0. quit2\n",
      "['6']\n",
      "choose an option : 1. push  2. pop 0. quit2\n",
      "[]\n",
      "choose an option : 1. push  2. pop 0. quit2\n",
      "stack is empty\n",
      "choose an option : 1. push  2. pop 0. quit0\n"
     ]
    }
   ],
   "source": [
    "#stack implementation\n",
    "msg =  \"\"\n",
    "stack = []\n",
    "def push():\n",
    "    item =  input()\n",
    "    new = stack.append(item)\n",
    "    print(stack)\n",
    "def pop1():\n",
    "    if stack:\n",
    "        stack.pop()\n",
    "        print(stack)\n",
    "    else:\n",
    "        print(\"stack is empty\")    \n",
    "while msg != 'quit':\n",
    "    msg = int(input('choose an option : 1. push  2. pop 0. quit'))\n",
    "    if msg == 1:\n",
    "        push()\n",
    "    elif msg == 2:\n",
    "        pop1()\n",
    "    elif msg == 0:\n",
    "        break\n",
    "    else:\n",
    "        print('right option')\n",
    "        \n",
    "        "
   ]
  },
  {
   "cell_type": "code",
   "execution_count": 23,
   "metadata": {},
   "outputs": [],
   "source": [
    "from collections import deque "
   ]
  },
  {
   "cell_type": "code",
   "execution_count": 24,
   "metadata": {},
   "outputs": [],
   "source": [
    "q = deque() \n",
    "q.append(5)\n",
    "q.append(6)"
   ]
  },
  {
   "cell_type": "code",
   "execution_count": 25,
   "metadata": {},
   "outputs": [
    {
     "data": {
      "text/plain": [
       "5"
      ]
     },
     "execution_count": 25,
     "metadata": {},
     "output_type": "execute_result"
    }
   ],
   "source": [
    "q.popleft()"
   ]
  },
  {
   "cell_type": "code",
   "execution_count": 26,
   "metadata": {},
   "outputs": [
    {
     "data": {
      "text/plain": [
       "deque([6])"
      ]
     },
     "execution_count": 26,
     "metadata": {},
     "output_type": "execute_result"
    }
   ],
   "source": [
    "q"
   ]
  },
  {
   "cell_type": "code",
   "execution_count": 7,
   "metadata": {},
   "outputs": [],
   "source": [
    "#linked list\n",
    "class listnode():\n",
    "    '''A node in a singly-linked list'''\n",
    "    def __init__(self, data=None,next =None):\n",
    "        \n",
    "        self.data =  data\n",
    "        self.next = next\n",
    "    \n",
    "    def __repr__(self):\n",
    "        return repr(self.data)\n",
    "\n",
    "class  signlylist():\n",
    "    \n",
    "    def __init__(self,head):\n",
    "        self.head= head\n",
    "        \n",
    "    def __repr__(self):\n",
    "        \n",
    "        nodes = []\n",
    "        \n",
    "        curr =  self.head\n",
    "        while curr:\n",
    "            nodes.append(repr(curr))\n",
    "            curr =  curr.next\n",
    "        return '[' + ', '.join(nodes) + ']'\n",
    "    \n",
    "    def prepend(self,data):\n",
    "        \n",
    "        self.head = listnode(data=data,next=self.head)\n",
    "        \n",
    "    def append(self,data):\n",
    "        \n",
    "        if not self.head:\n",
    "            self.head = ListNode(data=data)\n",
    "            return\n",
    "        curr = self.head\n",
    "        while curr.next:\n",
    "            curr = curr.next\n",
    "        curr.next = ListNode(data=data)\n",
    "\n",
    "    def find(self, key):\n",
    "        \"\"\"\n",
    "        Search for the first element with `data` matching\n",
    "        `key`. Return the element or `None` if not found.\n",
    "        Takes O(n) time.\n",
    "        \"\"\"\n",
    "        curr = self.head\n",
    "        while curr and curr.data != key:\n",
    "            curr = curr.next\n",
    "        return curr  # Will be None if not found\n",
    "\n",
    "    def remove(self, key):\n",
    "        \"\"\"\n",
    "        Remove the first occurrence of `key` in the list.\n",
    "        Takes O(n) time.\n",
    "        \"\"\"\n",
    "        # Find the element and keep a\n",
    "        # reference to the element preceding it\n",
    "        curr = self.head\n",
    "        prev = None\n",
    "        while curr and curr.data != key:\n",
    "            prev = curr\n",
    "            curr = curr.next\n",
    "        # Unlink it from the list\n",
    "        if prev is None:\n",
    "            self.head = curr.next\n",
    "        elif curr:\n",
    "            prev.next = curr.next\n",
    "            curr.next = None\n",
    "\n",
    "    def reverse(self):\n",
    "        \"\"\"\n",
    "        Reverse the list in-place.\n",
    "        Takes O(n) time.\n",
    "        \"\"\"\n",
    "        curr = self.head\n",
    "        prev_node = None\n",
    "        next_node = None\n",
    "        while curr:\n",
    "            next_node = curr.next\n",
    "            curr.next = prev_node\n",
    "            prev_node = curr\n",
    "            curr = next_node\n",
    "        self.head = prev_node    "
   ]
  },
  {
   "cell_type": "code",
   "execution_count": 9,
   "metadata": {},
   "outputs": [],
   "source": [
    "from collections import deque"
   ]
  },
  {
   "cell_type": "code",
   "execution_count": 10,
   "metadata": {},
   "outputs": [],
   "source": [
    "lst =  deque()"
   ]
  },
  {
   "cell_type": "code",
   "execution_count": 11,
   "metadata": {},
   "outputs": [],
   "source": [
    "lst.append('b')"
   ]
  },
  {
   "cell_type": "code",
   "execution_count": 13,
   "metadata": {},
   "outputs": [],
   "source": [
    "lst.appendleft('a')"
   ]
  },
  {
   "cell_type": "code",
   "execution_count": 14,
   "metadata": {},
   "outputs": [
    {
     "data": {
      "text/plain": [
       "deque(['a', 'b'])"
      ]
     },
     "execution_count": 14,
     "metadata": {},
     "output_type": "execute_result"
    }
   ],
   "source": [
    "lst"
   ]
  },
  {
   "cell_type": "code",
   "execution_count": 15,
   "metadata": {},
   "outputs": [
    {
     "data": {
      "text/plain": [
       "'b'"
      ]
     },
     "execution_count": 15,
     "metadata": {},
     "output_type": "execute_result"
    }
   ],
   "source": [
    "lst.pop()"
   ]
  },
  {
   "cell_type": "code",
   "execution_count": 16,
   "metadata": {},
   "outputs": [
    {
     "data": {
      "text/plain": [
       "deque(['a'])"
      ]
     },
     "execution_count": 16,
     "metadata": {},
     "output_type": "execute_result"
    }
   ],
   "source": [
    "lst"
   ]
  },
  {
   "cell_type": "code",
   "execution_count": 17,
   "metadata": {},
   "outputs": [],
   "source": [
    "lst.insert(2,'x')"
   ]
  },
  {
   "cell_type": "code",
   "execution_count": 18,
   "metadata": {},
   "outputs": [
    {
     "data": {
      "text/plain": [
       "deque(['a', 'x'])"
      ]
     },
     "execution_count": 18,
     "metadata": {},
     "output_type": "execute_result"
    }
   ],
   "source": [
    "lst"
   ]
  },
  {
   "cell_type": "code",
   "execution_count": 19,
   "metadata": {},
   "outputs": [],
   "source": [
    "lst.insert(1,'c')"
   ]
  },
  {
   "cell_type": "code",
   "execution_count": 20,
   "metadata": {},
   "outputs": [
    {
     "data": {
      "text/plain": [
       "deque(['a', 'c', 'x'])"
      ]
     },
     "execution_count": 20,
     "metadata": {},
     "output_type": "execute_result"
    }
   ],
   "source": [
    "lst"
   ]
  },
  {
   "cell_type": "code",
   "execution_count": 21,
   "metadata": {},
   "outputs": [
    {
     "data": {
      "text/plain": [
       "'a'"
      ]
     },
     "execution_count": 21,
     "metadata": {},
     "output_type": "execute_result"
    }
   ],
   "source": [
    "lst.popleft()"
   ]
  },
  {
   "cell_type": "code",
   "execution_count": 22,
   "metadata": {},
   "outputs": [
    {
     "data": {
      "text/plain": [
       "deque(['c', 'x'])"
      ]
     },
     "execution_count": 22,
     "metadata": {},
     "output_type": "execute_result"
    }
   ],
   "source": [
    "lst"
   ]
  },
  {
   "cell_type": "code",
   "execution_count": 1,
   "metadata": {},
   "outputs": [],
   "source": [
    "#doubly linked list\n",
    "# Node of a doubly linked list \n",
    "class Node: \n",
    "\tdef __init__(self, next=None, prev=None, data=None): \n",
    "\t\tself.next = next # reference to next node in DLL \n",
    "\t\tself.prev = prev # reference to previous node in DLL \n",
    "\t\tself.data = data \n"
   ]
  },
  {
   "cell_type": "code",
   "execution_count": 2,
   "metadata": {},
   "outputs": [],
   "source": [
    "def push(self,newdata):\n",
    "    \n",
    "    newnode =  Node(data=newdata)\n",
    "    newnode.next = self.head\n",
    "    newnode.prev = None\n",
    "    \n",
    "    if self.head is not None:\n",
    "        self.head.prev = newnode\n",
    "     \n",
    "    self.head = newnode\n",
    "    "
   ]
  },
  {
   "cell_type": "code",
   "execution_count": 6,
   "metadata": {},
   "outputs": [],
   "source": [
    "# Tree implementation\n",
    "class Node():\n",
    "    def __init__(self,key):\n",
    "        self.left = None\n",
    "        self.right = None\n",
    "        self.val = key"
   ]
  },
  {
   "cell_type": "code",
   "execution_count": 12,
   "metadata": {},
   "outputs": [],
   "source": [
    "root =  Node(1)\n",
    "root.left = Node(2)\n",
    "root.right = Node(3)"
   ]
  },
  {
   "cell_type": "code",
   "execution_count": 14,
   "metadata": {},
   "outputs": [
    {
     "data": {
      "text/plain": [
       "<__main__.Node at 0x7fda85345898>"
      ]
     },
     "execution_count": 14,
     "metadata": {},
     "output_type": "execute_result"
    }
   ],
   "source": []
  },
  {
   "cell_type": "code",
   "execution_count": 15,
   "metadata": {},
   "outputs": [],
   "source": [
    "#graph implementation\n",
    "\n",
    "graph = {'A': ['B', 'C'],\n",
    "             'B': ['C', 'D'],\n",
    "             'C': ['D'],\n",
    "             'D': ['C'],\n",
    "             'E': ['F'],\n",
    "             'F': ['D']}"
   ]
  },
  {
   "cell_type": "code",
   "execution_count": 47,
   "metadata": {},
   "outputs": [],
   "source": [
    "def find_path(graph, start, end, path =[]): \n",
    "    path = path + [start] \n",
    "    if start == end: \n",
    "        return path \n",
    "    for node in graph[start]: \n",
    "        if node not in path: \n",
    "            newpath = find_path(graph, node, end, path) \n",
    "            if newpath:  \n",
    "                return newpath\n",
    "            return None"
   ]
  },
  {
   "cell_type": "code",
   "execution_count": 49,
   "metadata": {},
   "outputs": [],
   "source": [
    "a = find_path(graph,'A',\"A\")"
   ]
  },
  {
   "cell_type": "code",
   "execution_count": 51,
   "metadata": {},
   "outputs": [
    {
     "data": {
      "text/plain": [
       "['B', 'C']"
      ]
     },
     "execution_count": 51,
     "metadata": {},
     "output_type": "execute_result"
    }
   ],
   "source": [
    "graph['A']"
   ]
  },
  {
   "cell_type": "code",
   "execution_count": 1,
   "metadata": {},
   "outputs": [],
   "source": [
    "#hash table implementation\n",
    "hash_table = [None]*10"
   ]
  },
  {
   "cell_type": "code",
   "execution_count": 2,
   "metadata": {},
   "outputs": [
    {
     "data": {
      "text/plain": [
       "[None, None, None, None, None, None, None, None, None, None]"
      ]
     },
     "execution_count": 2,
     "metadata": {},
     "output_type": "execute_result"
    }
   ],
   "source": [
    "hash_table"
   ]
  },
  {
   "cell_type": "code",
   "execution_count": 9,
   "metadata": {},
   "outputs": [],
   "source": [
    "def hash_func(key):\n",
    "    return key % len(hash_tables)"
   ]
  },
  {
   "cell_type": "code",
   "execution_count": 4,
   "metadata": {},
   "outputs": [],
   "source": [
    "def insert(hash_table,key,value):\n",
    "    hash_index =  hash_func(key)\n",
    "    hash_table[hash_index] = value"
   ]
  },
  {
   "cell_type": "code",
   "execution_count": 8,
   "metadata": {},
   "outputs": [
    {
     "name": "stdout",
     "output_type": "stream",
     "text": [
      "['gullu', None, None, None, None, None, None, None, None, None]\n"
     ]
    }
   ],
   "source": [
    "insert(hash_table, 10,'gullu')\n",
    "print(hash_table)"
   ]
  },
  {
   "cell_type": "code",
   "execution_count": 9,
   "metadata": {},
   "outputs": [],
   "source": [
    "insert(hash_table,20,'gul')"
   ]
  },
  {
   "cell_type": "code",
   "execution_count": 10,
   "metadata": {},
   "outputs": [
    {
     "data": {
      "text/plain": [
       "['gul', None, None, None, None, None, None, None, None, None]"
      ]
     },
     "execution_count": 10,
     "metadata": {},
     "output_type": "execute_result"
    }
   ],
   "source": [
    "hash_table"
   ]
  },
  {
   "cell_type": "markdown",
   "metadata": {},
   "source": [
    "Two way for preventing collision in hash tables\n",
    "1. linear probing\n",
    "One way to resolve collision is to find another open slot whenever there is a collision and store the item in that open slot. The search for open slot starts from the slot where the collision happened. It moves sequentially through the slots until an empty slot is encountered. The movement is in a circular fashion. It can move to the first slot while searching for an empty slot. Hence, covering the entire hash table. This kind of sequential search is called Linear Probing.\n",
    "2. chianing\n",
    "The other way to resolve collision is Chaining. This allows multiple items exist in the same slot/index. This can create a chain/collection of items in a single slot. When the collision happens, the item is stored in the same slot using chaining mechanism.\n",
    "\n",
    "While implementing Chaining in Python, we first create the hash table as a nested list (lists inside a list).\n"
   ]
  },
  {
   "cell_type": "code",
   "execution_count": 12,
   "metadata": {},
   "outputs": [],
   "source": [
    "#chaining\n",
    "hash_tables  = [[] for _ in range(10)]"
   ]
  },
  {
   "cell_type": "code",
   "execution_count": 13,
   "metadata": {},
   "outputs": [
    {
     "data": {
      "text/plain": [
       "[[], [], [], [], [], [], [], [], [], []]"
      ]
     },
     "execution_count": 13,
     "metadata": {},
     "output_type": "execute_result"
    }
   ],
   "source": [
    "hash_tables"
   ]
  },
  {
   "cell_type": "code",
   "execution_count": 17,
   "metadata": {},
   "outputs": [],
   "source": [
    "def insert_tables(hash_tables,key,value):\n",
    "    hash_index = hash_func(key)\n",
    "    hash_tables[hash_index].append(value)"
   ]
  },
  {
   "cell_type": "code",
   "execution_count": 18,
   "metadata": {},
   "outputs": [],
   "source": [
    "insert_tables(hash_tables,10,'india')"
   ]
  },
  {
   "cell_type": "code",
   "execution_count": 19,
   "metadata": {},
   "outputs": [
    {
     "data": {
      "text/plain": [
       "[['india'], [], [], [], [], [], [], [], [], []]"
      ]
     },
     "execution_count": 19,
     "metadata": {},
     "output_type": "execute_result"
    }
   ],
   "source": [
    "hash_tables"
   ]
  },
  {
   "cell_type": "code",
   "execution_count": 17,
   "metadata": {},
   "outputs": [],
   "source": [
    "insert_tables(hash_tables,20,'USA')"
   ]
  },
  {
   "cell_type": "code",
   "execution_count": 18,
   "metadata": {},
   "outputs": [
    {
     "data": {
      "text/plain": [
       "[['india', 'USA'], [], [], [], [], [], [], [], [], []]"
      ]
     },
     "execution_count": 18,
     "metadata": {},
     "output_type": "execute_result"
    }
   ],
   "source": [
    "hash_tables"
   ]
  },
  {
   "cell_type": "code",
   "execution_count": 19,
   "metadata": {},
   "outputs": [],
   "source": [
    "insert_tables(hash_tables,43,'UK')"
   ]
  },
  {
   "cell_type": "code",
   "execution_count": 20,
   "metadata": {},
   "outputs": [
    {
     "data": {
      "text/plain": [
       "[['india', 'USA'], [], [], ['UK'], [], [], [], [], [], []]"
      ]
     },
     "execution_count": 20,
     "metadata": {},
     "output_type": "execute_result"
    }
   ],
   "source": [
    "hash_tables"
   ]
  },
  {
   "cell_type": "code",
   "execution_count": 23,
   "metadata": {},
   "outputs": [],
   "source": [
    "hash_yable = [[] for _ in range(10)]"
   ]
  },
  {
   "cell_type": "code",
   "execution_count": 34,
   "metadata": {},
   "outputs": [],
   "source": [
    "def insert(hash_table, key, value):\n",
    "    hash_key = hash(key) % len(hash_yable)\n",
    "    key_exists = False\n",
    "    bucket = hash_yable[hash_key]    \n",
    "    for i, kv in enumerate(bucket):\n",
    "        k, v = kv\n",
    "        if key == k:\n",
    "            key_exists = True \n",
    "            break\n",
    "    if key_exists:\n",
    "        bucket[i] = ((key, value))\n",
    "    else:\n",
    "        bucket.append((key, value))\n",
    " \n",
    " "
   ]
  },
  {
   "cell_type": "code",
   "execution_count": 35,
   "metadata": {},
   "outputs": [],
   "source": [
    "insert(hash_yable,10,'gullu')"
   ]
  },
  {
   "cell_type": "code",
   "execution_count": 36,
   "metadata": {},
   "outputs": [],
   "source": [
    "insert(hash_yable,20,'india')"
   ]
  },
  {
   "cell_type": "code",
   "execution_count": 37,
   "metadata": {},
   "outputs": [
    {
     "data": {
      "text/plain": [
       "[[(10, 'gullu'), (20, 'india')], [], [], [], [], [], [], [], [], []]"
      ]
     },
     "execution_count": 37,
     "metadata": {},
     "output_type": "execute_result"
    }
   ],
   "source": [
    "hash_yable"
   ]
  },
  {
   "cell_type": "code",
   "execution_count": 44,
   "metadata": {},
   "outputs": [],
   "source": [
    "def search(hash_table,key):\n",
    "    hash_index =  hash(key)% len(hash_table)\n",
    "    bucket = hash_yable[hash_index]\n",
    "    for i ,kv in enumerate(bucket):\n",
    "        k,v = kv\n",
    "        if key ==k:\n",
    "            return k,v"
   ]
  },
  {
   "cell_type": "code",
   "execution_count": 45,
   "metadata": {},
   "outputs": [
    {
     "name": "stdout",
     "output_type": "stream",
     "text": [
      "(20, 'india')\n"
     ]
    }
   ],
   "source": [
    "print(search(hash_yable,20))"
   ]
  },
  {
   "cell_type": "code",
   "execution_count": 50,
   "metadata": {},
   "outputs": [],
   "source": [
    "def delete(hash_table,key):\n",
    "    hash_index =  hash(key)% len(hash_table)\n",
    "    key_exists = False\n",
    "    bucket = hash_yable[hash_index]\n",
    "    for i ,kv in enumerate(bucket):\n",
    "        k,v = kv\n",
    "        if key ==k:\n",
    "            key_exists = True\n",
    "            break\n",
    "    if key_exists:\n",
    "        del bucket[i]\n",
    "        print ('Key {} deleted'.format(key))\n",
    "    else:\n",
    "        print(\"item not found\")\n"
   ]
  },
  {
   "cell_type": "code",
   "execution_count": 51,
   "metadata": {},
   "outputs": [
    {
     "name": "stdout",
     "output_type": "stream",
     "text": [
      "Key 20 deleted\n"
     ]
    }
   ],
   "source": [
    "delete(hash_yable,20)"
   ]
  },
  {
   "cell_type": "code",
   "execution_count": 52,
   "metadata": {},
   "outputs": [
    {
     "data": {
      "text/plain": [
       "[[(10, 'gullu')], [], [], [], [], [], [], [], [], []]"
      ]
     },
     "execution_count": 52,
     "metadata": {},
     "output_type": "execute_result"
    }
   ],
   "source": [
    "hash_yable"
   ]
  },
  {
   "cell_type": "code",
   "execution_count": 14,
   "metadata": {},
   "outputs": [],
   "source": [
    "a = [20,1,5]\n",
    "b = [10,5,5]"
   ]
  },
  {
   "cell_type": "code",
   "execution_count": 19,
   "metadata": {},
   "outputs": [],
   "source": [
    "def compare(a,b):\n",
    "    final = [0,0]\n",
    "    for i in range(0,len(a)):\n",
    "        if a[i] > b[i]:\n",
    "            final[0] +=1\n",
    "        elif a[i] < b[i]:\n",
    "            final[1] +=1\n",
    "    return final        "
   ]
  },
  {
   "cell_type": "code",
   "execution_count": 20,
   "metadata": {},
   "outputs": [
    {
     "data": {
      "text/plain": [
       "[1, 1]"
      ]
     },
     "execution_count": 20,
     "metadata": {},
     "output_type": "execute_result"
    }
   ],
   "source": [
    "compare(a,b)"
   ]
  },
  {
   "cell_type": "code",
   "execution_count": 29,
   "metadata": {},
   "outputs": [],
   "source": [
    "def arr(ar):\n",
    "    result = sum(ar)\n",
    "    %time\n",
    "    return result"
   ]
  },
  {
   "cell_type": "code",
   "execution_count": 30,
   "metadata": {},
   "outputs": [],
   "source": [
    "ar = [1000000001 ,1000000002 ,1000000003 ,1000000004 ,1000000005]"
   ]
  },
  {
   "cell_type": "code",
   "execution_count": 31,
   "metadata": {},
   "outputs": [
    {
     "name": "stdout",
     "output_type": "stream",
     "text": [
      "CPU times: user 5 µs, sys: 0 ns, total: 5 µs\n",
      "Wall time: 11 µs\n"
     ]
    },
    {
     "data": {
      "text/plain": [
       "5000000015"
      ]
     },
     "execution_count": 31,
     "metadata": {},
     "output_type": "execute_result"
    }
   ],
   "source": [
    "arr(ar)"
   ]
  },
  {
   "cell_type": "code",
   "execution_count": 1,
   "metadata": {},
   "outputs": [],
   "source": [
    "a = [[1,2,3],[2,5,6],[5,3,4]]"
   ]
  },
  {
   "cell_type": "code",
   "execution_count": 5,
   "metadata": {},
   "outputs": [],
   "source": [
    "def dia(arr):\n",
    "    d1= 0\n",
    "    d2 = 0\n",
    "    for i in range(0,len(arr)):\n",
    "        d1 =  d1+arr[i][i]\n",
    "        d2 =  d2+arr[i][len(arr)-i-1]\n",
    "    return abs(d1-d2)    "
   ]
  },
  {
   "cell_type": "code",
   "execution_count": 6,
   "metadata": {},
   "outputs": [
    {
     "data": {
      "text/plain": [
       "3"
      ]
     },
     "execution_count": 6,
     "metadata": {},
     "output_type": "execute_result"
    }
   ],
   "source": [
    "dia(a)"
   ]
  },
  {
   "cell_type": "code",
   "execution_count": 16,
   "metadata": {},
   "outputs": [],
   "source": [
    "b = [-4 ,3 ,-9 ,0, 4 ,1 ]"
   ]
  },
  {
   "cell_type": "code",
   "execution_count": 30,
   "metadata": {},
   "outputs": [],
   "source": [
    "# fraction of +ve -ve and zero\n",
    "def pus(arr):\n",
    "    p = 0\n",
    "    n =0\n",
    "    z = 0\n",
    "    for i in range(0,len(arr)):\n",
    "        if arr[i] > 0:\n",
    "            p +=1/len(arr)\n",
    "        elif arr[i] < 0:\n",
    "            n += 1/len(arr)\n",
    "        else:\n",
    "            z += 1/len(arr)\n",
    "    print(str.format('{0:.6f}',p),'\\n',str.format('{0:.6f}',n),'\\n',str.format('{0:.6f}',z))     "
   ]
  },
  {
   "cell_type": "code",
   "execution_count": 31,
   "metadata": {},
   "outputs": [
    {
     "name": "stdout",
     "output_type": "stream",
     "text": [
      "0.500000 \n",
      " 0.333333 \n",
      " 0.166667\n"
     ]
    }
   ],
   "source": [
    "pus(b)"
   ]
  },
  {
   "cell_type": "code",
   "execution_count": 55,
   "metadata": {},
   "outputs": [],
   "source": [
    "def staircase(n):\n",
    "    for i in range(1,n+1):\n",
    "        print(' ' * (n-i) + '#' * i) "
   ]
  },
  {
   "cell_type": "code",
   "execution_count": 56,
   "metadata": {},
   "outputs": [
    {
     "name": "stdout",
     "output_type": "stream",
     "text": [
      "     #\n",
      "    ##\n",
      "   ###\n",
      "  ####\n",
      " #####\n",
      "######\n"
     ]
    }
   ],
   "source": [
    "staircase(6)"
   ]
  },
  {
   "cell_type": "code",
   "execution_count": 59,
   "metadata": {},
   "outputs": [],
   "source": [
    "def min_max(arr):\n",
    "    x = sum(arr)\n",
    "    print(\"min no.\",x-max(arr))\n",
    "    print(\"max no.\",x-min(arr))"
   ]
  },
  {
   "cell_type": "code",
   "execution_count": 60,
   "metadata": {},
   "outputs": [
    {
     "name": "stdout",
     "output_type": "stream",
     "text": [
      "min no. 17\n",
      "max no. 23\n"
     ]
    }
   ],
   "source": [
    "ara = [1,3,5,6,7,2]\n",
    "min_max(ara)"
   ]
  },
  {
   "cell_type": "code",
   "execution_count": 68,
   "metadata": {},
   "outputs": [],
   "source": [
    "def cake(arr):\n",
    "    m = max(arr)\n",
    "    count = 0\n",
    "    for i in range(0,len(arr)):\n",
    "        if arr[i]== m:\n",
    "            count +=1\n",
    "    return count        "
   ]
  },
  {
   "cell_type": "code",
   "execution_count": 70,
   "metadata": {},
   "outputs": [
    {
     "data": {
      "text/plain": [
       "2"
      ]
     },
     "execution_count": 70,
     "metadata": {},
     "output_type": "execute_result"
    }
   ],
   "source": [
    "cake([3 ,2 ,1 ,3])"
   ]
  },
  {
   "cell_type": "code",
   "execution_count": 10,
   "metadata": {},
   "outputs": [],
   "source": [
    "a = [21,25,41,1,2,6]\n",
    "b = [25,41,5,20,3,4]"
   ]
  },
  {
   "cell_type": "code",
   "execution_count": 11,
   "metadata": {},
   "outputs": [],
   "source": [
    "a= sorted(a)\n",
    "b = sorted(b)"
   ]
  },
  {
   "cell_type": "code",
   "execution_count": 12,
   "metadata": {},
   "outputs": [
    {
     "data": {
      "text/plain": [
       "([1, 2, 6, 21, 25, 41], [3, 4, 5, 20, 25, 41])"
      ]
     },
     "execution_count": 12,
     "metadata": {},
     "output_type": "execute_result"
    }
   ],
   "source": [
    "a,b"
   ]
  },
  {
   "cell_type": "code",
   "execution_count": 13,
   "metadata": {},
   "outputs": [
    {
     "name": "stdout",
     "output_type": "stream",
     "text": [
      "item not found\n",
      "item not found\n",
      "item not found\n",
      "item not found\n",
      "4\n",
      "5\n"
     ]
    }
   ],
   "source": [
    "for i in range(0,len(b)):\n",
    "    if b[i] == a[i]:\n",
    "        print(i)\n",
    "    else:\n",
    "        print('item not found')"
   ]
  },
  {
   "cell_type": "code",
   "execution_count": 1,
   "metadata": {},
   "outputs": [],
   "source": [
    "strn = 'gulshansharma'"
   ]
  },
  {
   "cell_type": "code",
   "execution_count": 10,
   "metadata": {},
   "outputs": [
    {
     "data": {
      "text/plain": [
       "'gulshansharma'"
      ]
     },
     "execution_count": 10,
     "metadata": {},
     "output_type": "execute_result"
    }
   ],
   "source": [
    "strn"
   ]
  },
  {
   "cell_type": "code",
   "execution_count": 5,
   "metadata": {},
   "outputs": [],
   "source": [
    "def make_link(arr):\n",
    "    count=0\n",
    "    for i in range (len(arr)):\n",
    "        value=arr[i]\n",
    "        for j in range (len(arr)):\n",
    "            if arr[j]==value:\n",
    "                count+= 1\n",
    "                if(count>1):\n",
    "                    return(\"Nopes\")\n",
    "        count=0"
   ]
  },
  {
   "cell_type": "code",
   "execution_count": 6,
   "metadata": {},
   "outputs": [
    {
     "data": {
      "text/plain": [
       "'Nopes'"
      ]
     },
     "execution_count": 6,
     "metadata": {},
     "output_type": "execute_result"
    }
   ],
   "source": [
    "make_link(strn)"
   ]
  },
  {
   "cell_type": "code",
   "execution_count": 5,
   "metadata": {},
   "outputs": [],
   "source": [
    " g = []"
   ]
  },
  {
   "cell_type": "code",
   "execution_count": 6,
   "metadata": {},
   "outputs": [],
   "source": [
    "def uniq(arr):\n",
    "    for i in arr:\n",
    "        if i not in g:\n",
    "            g.append(i)"
   ]
  },
  {
   "cell_type": "code",
   "execution_count": 7,
   "metadata": {},
   "outputs": [],
   "source": [
    "uniq(strn)"
   ]
  },
  {
   "cell_type": "code",
   "execution_count": 8,
   "metadata": {},
   "outputs": [
    {
     "name": "stdout",
     "output_type": "stream",
     "text": [
      "not unique\n"
     ]
    }
   ],
   "source": [
    "if len(g) != len(strn):\n",
    "    print(\"not unique\")\n",
    "else:\n",
    "    print('unique')"
   ]
  },
  {
   "cell_type": "code",
   "execution_count": 9,
   "metadata": {},
   "outputs": [
    {
     "data": {
      "text/plain": [
       "['g', 'u', 'l', 's', 'h', 'a', 'n', 'r', 'm']"
      ]
     },
     "execution_count": 9,
     "metadata": {},
     "output_type": "execute_result"
    }
   ],
   "source": [
    "g"
   ]
  },
  {
   "cell_type": "code",
   "execution_count": 17,
   "metadata": {},
   "outputs": [],
   "source": [
    "# grade count\n",
    "def grade(arr):\n",
    "    for i in range(len(arr)):\n",
    "        if (arr[i] + (5-arr[i]%5)) - arr[i] < 3 and arr[i] >= 38:\n",
    "            arr[i] = arr[i] + (5-arr[i]%5)\n",
    "    return arr        "
   ]
  },
  {
   "cell_type": "code",
   "execution_count": 20,
   "metadata": {},
   "outputs": [],
   "source": [
    "gra = [61,33,38,40]"
   ]
  },
  {
   "cell_type": "code",
   "execution_count": 21,
   "metadata": {},
   "outputs": [
    {
     "data": {
      "text/plain": [
       "[61, 33, 40, 40]"
      ]
     },
     "execution_count": 21,
     "metadata": {},
     "output_type": "execute_result"
    }
   ],
   "source": [
    "grade(gra)"
   ]
  },
  {
   "cell_type": "code",
   "execution_count": 29,
   "metadata": {},
   "outputs": [],
   "source": [
    "#apple and oranges counts\n",
    "def countapporg(app,org,s=7,t=11,a=5,b=15):\n",
    "    count = [0,0]\n",
    "    for i in app:\n",
    "        if(a+i) >=s and a+i<=t:\n",
    "            count[0] +=1\n",
    "    for i in org:\n",
    "        if (b+i) >=s and (b+i)<=t:\n",
    "            count[1] +=1\n",
    "    return count        "
   ]
  },
  {
   "cell_type": "code",
   "execution_count": 30,
   "metadata": {},
   "outputs": [],
   "source": [
    "app = [-2,2,1]\n",
    "org = [5,-6]"
   ]
  },
  {
   "cell_type": "code",
   "execution_count": 31,
   "metadata": {},
   "outputs": [
    {
     "data": {
      "text/plain": [
       "[1, 1]"
      ]
     },
     "execution_count": 31,
     "metadata": {},
     "output_type": "execute_result"
    }
   ],
   "source": [
    "countapporg(app,org)"
   ]
  },
  {
   "cell_type": "code",
   "execution_count": 77,
   "metadata": {},
   "outputs": [],
   "source": [
    "#count distnace for kangaroo running \n",
    "# x1- starting point v1 -speed\n",
    "def countdist(x1,v1,x2,v2):\n",
    "    if  (x2>x1)and (v2>v1):return \"NO\"\n",
    "    try:\n",
    "        if (x1-x2)%(v2-v1)==0:\n",
    "            return \"YES\"\n",
    "        else:\n",
    "            return \"NO\"\n",
    "    except:\n",
    "        return \"NO\""
   ]
  },
  {
   "cell_type": "code",
   "execution_count": 78,
   "metadata": {},
   "outputs": [
    {
     "data": {
      "text/plain": [
       "'YES'"
      ]
     },
     "execution_count": 78,
     "metadata": {},
     "output_type": "execute_result"
    }
   ],
   "source": [
    "countdist(0,3,4,2)"
   ]
  },
  {
   "cell_type": "code",
   "execution_count": 79,
   "metadata": {},
   "outputs": [
    {
     "data": {
      "text/plain": [
       "'NO'"
      ]
     },
     "execution_count": 79,
     "metadata": {},
     "output_type": "execute_result"
    }
   ],
   "source": [
    "countdist(43 ,2 ,70 ,2)"
   ]
  },
  {
   "cell_type": "code",
   "execution_count": 62,
   "metadata": {},
   "outputs": [
    {
     "data": {
      "text/plain": [
       "-2"
      ]
     },
     "execution_count": 62,
     "metadata": {},
     "output_type": "execute_result"
    }
   ],
   "source": [
    "(28-96)%(2-8)"
   ]
  },
  {
   "cell_type": "code",
   "execution_count": 10,
   "metadata": {},
   "outputs": [],
   "source": [
    "def scorerecord(scores):\n",
    "    high =  scores[0] \n",
    "    low = scores[0]\n",
    "    count = [0,0]\n",
    "    for i  in range(1,len(scores)):\n",
    "        if(scores[i] > high):\n",
    "            high = scores[i]\n",
    "            count[0] += 1\n",
    "        elif scores[i] < low:\n",
    "            low =  scores[i]\n",
    "            count[1] +=1\n",
    "    return count[0], count[1]"
   ]
  },
  {
   "cell_type": "code",
   "execution_count": 11,
   "metadata": {},
   "outputs": [],
   "source": [
    "scores = [10 ,5 ,20 ,20 ,4 ,5 ,2 ,25 ,1]"
   ]
  },
  {
   "cell_type": "code",
   "execution_count": 13,
   "metadata": {},
   "outputs": [],
   "source": [
    "s = [3 ,4 ,21 ,36 ,10 ,28 ,35 ,5 ,24 ,42]"
   ]
  },
  {
   "cell_type": "code",
   "execution_count": 12,
   "metadata": {},
   "outputs": [
    {
     "data": {
      "text/plain": [
       "(2, 4)"
      ]
     },
     "execution_count": 12,
     "metadata": {},
     "output_type": "execute_result"
    }
   ],
   "source": [
    "scorerecord(scores)"
   ]
  },
  {
   "cell_type": "code",
   "execution_count": 14,
   "metadata": {},
   "outputs": [
    {
     "data": {
      "text/plain": [
       "(4, 0)"
      ]
     },
     "execution_count": 14,
     "metadata": {},
     "output_type": "execute_result"
    }
   ],
   "source": [
    "scorerecord(s)"
   ]
  },
  {
   "cell_type": "code",
   "execution_count": 43,
   "metadata": {},
   "outputs": [],
   "source": [
    "def birthdaycake(s,d,m):\n",
    "    count = 0\n",
    "    for i  in range(len(s)-m+1):\n",
    "        sum1 = 0\n",
    "        for j in range(0,m):\n",
    "            sum1 += s[i+j]\n",
    "        if sum1==d:\n",
    "            count +=1\n",
    "    return count        \n",
    "        "
   ]
  },
  {
   "cell_type": "code",
   "execution_count": 50,
   "metadata": {},
   "outputs": [],
   "source": [
    "s = [1 ,2 ,1 ,3 ,2]\n",
    "d = 3\n",
    "m = 2"
   ]
  },
  {
   "cell_type": "code",
   "execution_count": 51,
   "metadata": {},
   "outputs": [
    {
     "data": {
      "text/plain": [
       "2"
      ]
     },
     "execution_count": 51,
     "metadata": {},
     "output_type": "execute_result"
    }
   ],
   "source": [
    "birthdaycake(s,d,m)"
   ]
  },
  {
   "cell_type": "code",
   "execution_count": 46,
   "metadata": {},
   "outputs": [],
   "source": [
    "s1 = [1 ,1 ,1 ,1 ,1 ,1]"
   ]
  },
  {
   "cell_type": "code",
   "execution_count": 40,
   "metadata": {},
   "outputs": [],
   "source": [
    "d=3\n",
    "m =2"
   ]
  },
  {
   "cell_type": "code",
   "execution_count": 52,
   "metadata": {},
   "outputs": [],
   "source": [
    "s2 = [4]\n",
    "d =4\n",
    "m =1"
   ]
  },
  {
   "cell_type": "code",
   "execution_count": 53,
   "metadata": {},
   "outputs": [
    {
     "data": {
      "text/plain": [
       "1"
      ]
     },
     "execution_count": 53,
     "metadata": {},
     "output_type": "execute_result"
    }
   ],
   "source": [
    "birthdaycake(s2,d,m)"
   ]
  },
  {
   "cell_type": "code",
   "execution_count": 69,
   "metadata": {},
   "outputs": [],
   "source": [
    "# checking permutation\n",
    "def permuation(s1,s2):\n",
    "    if len(s1) != len(s2):\n",
    "        return False\n",
    "    count1 = [0] * 256\n",
    "    count2 = [0] *256\n",
    "    for i in s1:\n",
    "        count1[ord(i)] += 1\n",
    "    for j in s2:    \n",
    "        count2[ord(j)] += 1\n",
    "    for i in range(256):\n",
    "        if count1[i] != count2[i]:\n",
    "            return False\n",
    "    return True    "
   ]
  },
  {
   "cell_type": "code",
   "execution_count": 71,
   "metadata": {},
   "outputs": [
    {
     "data": {
      "text/plain": [
       "True"
      ]
     },
     "execution_count": 71,
     "metadata": {},
     "output_type": "execute_result"
    }
   ],
   "source": [
    "s1 = \"gulshansharma\"\n",
    "s2 = \"sharmagulshan\"\n",
    "permuation(s1,s2)"
   ]
  },
  {
   "cell_type": "code",
   "execution_count": 73,
   "metadata": {},
   "outputs": [
    {
     "name": "stdout",
     "output_type": "stream",
     "text": [
      "CPU times: user 11 µs, sys: 0 ns, total: 11 µs\n",
      "Wall time: 264 µs\n",
      "5\n"
     ]
    }
   ],
   "source": [
    "k = 3\n",
    "lst  = [1 ,3 ,2 ,6 ,1 ,2]\n",
    "count = 0\n",
    "for i in range(len(lst)-1):\n",
    "    for x in range(1+i, len(lst)):     \n",
    "        if (lst[i] + lst[x]) % k == 0:\n",
    "            count += 1\n",
    "%time       \n",
    "print(count)"
   ]
  },
  {
   "cell_type": "code",
   "execution_count": 85,
   "metadata": {},
   "outputs": [],
   "source": [
    "def divisibleSumPairs(n, k, ar):\n",
    "    %time\n",
    "    print( sum(1 for i in range(n) for j in range(n) if i < j and (ar[i]+ar[j])%k == 0))"
   ]
  },
  {
   "cell_type": "code",
   "execution_count": 89,
   "metadata": {},
   "outputs": [
    {
     "data": {
      "text/plain": [
       "5"
      ]
     },
     "execution_count": 89,
     "metadata": {},
     "output_type": "execute_result"
    }
   ],
   "source": [
    "divisibleSumPairs(6,k,lst)\n"
   ]
  },
  {
   "cell_type": "code",
   "execution_count": 1,
   "metadata": {},
   "outputs": [
    {
     "name": "stdout",
     "output_type": "stream",
     "text": [
      "3\n"
     ]
    }
   ],
   "source": [
    "# migrating birds\n",
    "birds = [1,5,5,2,3,3,3,4]\n",
    "count = [0]*len(birds)\n",
    "for i in range(len(birds)):\n",
    "    count[birds[i]] += 1\n",
    "print(count.index(max(count)))    "
   ]
  },
  {
   "cell_type": "code",
   "execution_count": 28,
   "metadata": {},
   "outputs": [],
   "source": [
    "def countingvalley(s,n):\n",
    "    count = 0\n",
    "    level = 0\n",
    "    for i in range(len(s)):\n",
    "        if s[i]=='U':\n",
    "            level += 1\n",
    "            if(level==0):\n",
    "                count +=1\n",
    "        else:\n",
    "            level -= 1\n",
    "    return count        "
   ]
  },
  {
   "cell_type": "code",
   "execution_count": 29,
   "metadata": {},
   "outputs": [],
   "source": [
    "s = 'UDDDUDDUUDUDU'\n",
    "n =len(s)"
   ]
  },
  {
   "cell_type": "code",
   "execution_count": 30,
   "metadata": {},
   "outputs": [
    {
     "data": {
      "text/plain": [
       "0"
      ]
     },
     "execution_count": 30,
     "metadata": {},
     "output_type": "execute_result"
    }
   ],
   "source": [
    "countingvalley(s,n)"
   ]
  },
  {
   "cell_type": "code",
   "execution_count": 20,
   "metadata": {},
   "outputs": [],
   "source": [
    "#two sum problem\n",
    "def twosum(s):\n",
    "    for i in range(len(s)):\n",
    "        if sum(s)- 17 == s[i]:\n",
    "            print(i)"
   ]
  },
  {
   "cell_type": "code",
   "execution_count": 23,
   "metadata": {},
   "outputs": [
    {
     "name": "stdout",
     "output_type": "stream",
     "text": [
      "3\n"
     ]
    }
   ],
   "source": [
    "a = twosum([10,2,5,7])"
   ]
  },
  {
   "cell_type": "code",
   "execution_count": 36,
   "metadata": {},
   "outputs": [],
   "source": [
    "#using hashtable\n",
    "def hashtwosum(s,n):\n",
    "    pair = []\n",
    "    hashtable = [0] * len(s)\n",
    "    for i in range(len(s)):\n",
    "        if (n-s[i]) in hashtable:\n",
    "            pair.extend([s[i],n-s[i]])\n",
    "        else:\n",
    "            hashtable[i] = (s[i])\n",
    "    return pair        \n",
    "            "
   ]
  },
  {
   "cell_type": "code",
   "execution_count": 37,
   "metadata": {},
   "outputs": [
    {
     "data": {
      "text/plain": [
       "[7, 10]"
      ]
     },
     "execution_count": 37,
     "metadata": {},
     "output_type": "execute_result"
    }
   ],
   "source": [
    "hashtwosum([10,2,5,7],17)"
   ]
  },
  {
   "cell_type": "code",
   "execution_count": 82,
   "metadata": {},
   "outputs": [],
   "source": [
    "def hashtwosum(s,n):\n",
    "    #pair = []\n",
    "    hashtable = {}\n",
    "    for i in range(len(s)):\n",
    "        if (n-s[i]) in hashtable:\n",
    "            return([hashtable[n - s[i]], i])\n",
    "        else:\n",
    "            hashtable[s[i]] = i      "
   ]
  },
  {
   "cell_type": "code",
   "execution_count": 84,
   "metadata": {},
   "outputs": [
    {
     "data": {
      "text/plain": [
       "[0, 3]"
      ]
     },
     "execution_count": 84,
     "metadata": {},
     "output_type": "execute_result"
    }
   ],
   "source": [
    "hashtwosum([0,4,3,0],0)"
   ]
  },
  {
   "cell_type": "code",
   "execution_count": 40,
   "metadata": {},
   "outputs": [],
   "source": [
    "s = [10,2,5,7]"
   ]
  },
  {
   "cell_type": "code",
   "execution_count": 41,
   "metadata": {},
   "outputs": [
    {
     "data": {
      "text/plain": [
       "0"
      ]
     },
     "execution_count": 41,
     "metadata": {},
     "output_type": "execute_result"
    }
   ],
   "source": [
    "s.index(10)"
   ]
  },
  {
   "cell_type": "code",
   "execution_count": 70,
   "metadata": {},
   "outputs": [],
   "source": [
    " def twoSum(nums, target):\n",
    "        h = {}\n",
    "        for i, num in enumerate(nums):\n",
    "            n = target - num\n",
    "            if n not in h:\n",
    "                h[num] = i\n",
    "            else:\n",
    "                return [h[n], i]"
   ]
  },
  {
   "cell_type": "code",
   "execution_count": 71,
   "metadata": {},
   "outputs": [
    {
     "data": {
      "text/plain": [
       "[0, 1]"
      ]
     },
     "execution_count": 71,
     "metadata": {},
     "output_type": "execute_result"
    }
   ],
   "source": [
    "twoSum([3,3,11,15],6)"
   ]
  },
  {
   "cell_type": "code",
   "execution_count": 80,
   "metadata": {},
   "outputs": [],
   "source": [
    "def sumtwo(s,n):\n",
    "    h = {}\n",
    "    for i in range(len(s)):\n",
    "        if n-s[i] not in h:\n",
    "            h[s[i]] = i\n",
    "        else:\n",
    "            return [h[n-s[i]],i]"
   ]
  },
  {
   "cell_type": "code",
   "execution_count": 81,
   "metadata": {},
   "outputs": [
    {
     "data": {
      "text/plain": [
       "[0, 1]"
      ]
     },
     "execution_count": 81,
     "metadata": {},
     "output_type": "execute_result"
    }
   ],
   "source": [
    "sumtwo([3,3,11,15],6)"
   ]
  },
  {
   "cell_type": "code",
   "execution_count": 85,
   "metadata": {},
   "outputs": [
    {
     "data": {
      "text/plain": [
       "[0, 3]"
      ]
     },
     "execution_count": 85,
     "metadata": {},
     "output_type": "execute_result"
    }
   ],
   "source": [
    "sumtwo([0,4,3,0],0)"
   ]
  },
  {
   "cell_type": "code",
   "execution_count": 101,
   "metadata": {},
   "outputs": [],
   "source": [
    "def bonappetit(s,b,k):\n",
    "    t = int((sum(s)-s[k])/2)\n",
    "    if b == t:\n",
    "        print('bon')\n",
    "    elif b > t:\n",
    "        return (b - t)"
   ]
  },
  {
   "cell_type": "code",
   "execution_count": 99,
   "metadata": {},
   "outputs": [
    {
     "data": {
      "text/plain": [
       "5"
      ]
     },
     "execution_count": 99,
     "metadata": {},
     "output_type": "execute_result"
    }
   ],
   "source": [
    "bonappetit([3, 10, 2, 9],12)"
   ]
  },
  {
   "cell_type": "code",
   "execution_count": 98,
   "metadata": {},
   "outputs": [
    {
     "name": "stdout",
     "output_type": "stream",
     "text": [
      "bon\n"
     ]
    }
   ],
   "source": [
    "bonappetit([3,10,2 ,9],7)"
   ]
  },
  {
   "cell_type": "code",
   "execution_count": 102,
   "metadata": {},
   "outputs": [
    {
     "name": "stdout",
     "output_type": "stream",
     "text": [
      "bon\n"
     ]
    }
   ],
   "source": [
    "bonappetit([40 ,39 ,97 ,5 ,2 ,84 ,35 ,93 ,59 ,39],198,2)"
   ]
  },
  {
   "cell_type": "code",
   "execution_count": 138,
   "metadata": {},
   "outputs": [],
   "source": [
    "# sock merchant\n",
    "def sock(colors):\n",
    "    h= [0]*len(colors)\n",
    "    pair = 0\n",
    "    for i in range(len(colors)):\n",
    "        if colors[i] in h:\n",
    "            pair +=1\n",
    "            h.remove(colors[i])\n",
    "        else:\n",
    "            h.insert(i,colors[i])\n",
    "            \n",
    "    return pair        "
   ]
  },
  {
   "cell_type": "code",
   "execution_count": 139,
   "metadata": {},
   "outputs": [
    {
     "data": {
      "text/plain": [
       "2"
      ]
     },
     "execution_count": 139,
     "metadata": {},
     "output_type": "execute_result"
    }
   ],
   "source": [
    "sock([1,2,2,1,3,1,2])"
   ]
  },
  {
   "cell_type": "code",
   "execution_count": 143,
   "metadata": {},
   "outputs": [
    {
     "data": {
      "text/plain": [
       "0"
      ]
     },
     "execution_count": 143,
     "metadata": {},
     "output_type": "execute_result"
    }
   ],
   "source": [
    "sock([1,2,3,4,5])"
   ]
  },
  {
   "cell_type": "code",
   "execution_count": 84,
   "metadata": {},
   "outputs": [],
   "source": [
    "# reverse integer  for 32 bit input 2^31\n",
    "def reverse(x):\n",
    "    reverse  = 0\n",
    "    p = x\n",
    "    if x < 0:\n",
    "        p = x*-1\n",
    "    while p > 0:\n",
    "        rem = p%10\n",
    "        reverse = (reverse*10) + rem\n",
    "        p //=10\n",
    "    if (reverse >= 2147483647 or \n",
    "            reverse <= -2147483648): \n",
    "            reverse = 0 \n",
    "            return reverse\n",
    "    if x<0:\n",
    "        return (-1*reverse)\n",
    "    return (reverse)    "
   ]
  },
  {
   "cell_type": "code",
   "execution_count": 180,
   "metadata": {},
   "outputs": [
    {
     "data": {
      "text/plain": [
       "321"
      ]
     },
     "execution_count": 180,
     "metadata": {},
     "output_type": "execute_result"
    }
   ],
   "source": [
    "reverse(123)"
   ]
  },
  {
   "cell_type": "code",
   "execution_count": 181,
   "metadata": {},
   "outputs": [
    {
     "data": {
      "text/plain": [
       "-321"
      ]
     },
     "execution_count": 181,
     "metadata": {},
     "output_type": "execute_result"
    }
   ],
   "source": [
    "reverse(-123)"
   ]
  },
  {
   "cell_type": "code",
   "execution_count": 182,
   "metadata": {},
   "outputs": [
    {
     "data": {
      "text/plain": [
       "0"
      ]
     },
     "execution_count": 182,
     "metadata": {},
     "output_type": "execute_result"
    }
   ],
   "source": [
    "reverse(1534236469)"
   ]
  },
  {
   "cell_type": "code",
   "execution_count": 183,
   "metadata": {},
   "outputs": [
    {
     "data": {
      "text/plain": [
       "1534236469"
      ]
     },
     "execution_count": 183,
     "metadata": {},
     "output_type": "execute_result"
    }
   ],
   "source": [
    "reverse(9646324351)"
   ]
  },
  {
   "cell_type": "code",
   "execution_count": 7,
   "metadata": {},
   "outputs": [
    {
     "name": "stdout",
     "output_type": "stream",
     "text": [
      "1\n"
     ]
    }
   ],
   "source": [
    "# drawing book page (hacker rank problem)\n",
    "p = 5\n",
    "n = 6\n",
    "print(min(p//2,n//2-p//2))"
   ]
  },
  {
   "cell_type": "code",
   "execution_count": 8,
   "metadata": {},
   "outputs": [
    {
     "data": {
      "text/plain": [
       "2"
      ]
     },
     "execution_count": 8,
     "metadata": {},
     "output_type": "execute_result"
    }
   ],
   "source": [
    "p//2"
   ]
  },
  {
   "cell_type": "code",
   "execution_count": 45,
   "metadata": {},
   "outputs": [],
   "source": [
    "# input -> [1,2,3] output -> [6,3,2] product of remianing (ask in amazon interview)\n",
    "#element\n",
    "def product(s):\n",
    "    l= [0]*len(s)\n",
    "    r= [0]*len(s)\n",
    "    l[0] = 1\n",
    "    for i in range(1,len(s)):\n",
    "        l[i] = l[i-1] * s[i-1]\n",
    "    r[len(s)-1] = 1\n",
    "    for i in range(len(s)-2,-1,-1):\n",
    "        r[i] = s[i+1]*r[i+1]\n",
    "    return [r*l for r,l in zip(r,l)]    "
   ]
  },
  {
   "cell_type": "code",
   "execution_count": 48,
   "metadata": {},
   "outputs": [
    {
     "data": {
      "text/plain": [
       "[60, 120, 40, 30, 24]"
      ]
     },
     "execution_count": 48,
     "metadata": {},
     "output_type": "execute_result"
    }
   ],
   "source": [
    "product([2,1,3,4,5])"
   ]
  },
  {
   "cell_type": "code",
   "execution_count": 49,
   "metadata": {},
   "outputs": [],
   "source": [
    "#jumping on the clouds\n",
    "def jumps(s):\n",
    "    cur = 0\n",
    "    jump = 0\n",
    "    while cur < len(s)-1:\n",
    "        if cur+1 == len(s)-1:\n",
    "            cur +=1\n",
    "        elif s[cur+2] == 0:\n",
    "            cur += 2\n",
    "        else:\n",
    "            cur += 1\n",
    "        jump +=1\n",
    "    return jump    "
   ]
  },
  {
   "cell_type": "code",
   "execution_count": 50,
   "metadata": {},
   "outputs": [
    {
     "data": {
      "text/plain": [
       "4"
      ]
     },
     "execution_count": 50,
     "metadata": {},
     "output_type": "execute_result"
    }
   ],
   "source": [
    "jumps([0,0,1,0,1,0,0])"
   ]
  },
  {
   "cell_type": "code",
   "execution_count": 5,
   "metadata": {},
   "outputs": [],
   "source": [
    "# acatand mouse\n",
    "    def catandmouse(x,y,z):\n",
    "        if abs(x-z) < abs(y-z):\n",
    "            return \"Cat A\"\n",
    "        elif abs(x-z) > abs(y-z):\n",
    "            return \"Cat B\"\n",
    "        else:\n",
    "            return \"Mouse C\"\n",
    "    "
   ]
  },
  {
   "cell_type": "code",
   "execution_count": 7,
   "metadata": {},
   "outputs": [
    {
     "data": {
      "text/plain": [
       "'Mouse C'"
      ]
     },
     "execution_count": 7,
     "metadata": {},
     "output_type": "execute_result"
    }
   ],
   "source": [
    "catandmouse(1,3,2)"
   ]
  },
  {
   "cell_type": "code",
   "execution_count": 89,
   "metadata": {},
   "outputs": [],
   "source": [
    "# repeated string\n",
    "def repstring(s,n):\n",
    "    count = s.count('a')\n",
    "    substring = n//  len(s)\n",
    "    total = count*substring\n",
    "    rem = n%len(s)\n",
    "    return total+ s[:rem].count('a')\n",
    "    "
   ]
  },
  {
   "cell_type": "code",
   "execution_count": 91,
   "metadata": {},
   "outputs": [
    {
     "data": {
      "text/plain": [
       "5"
      ]
     },
     "execution_count": 91,
     "metadata": {},
     "output_type": "execute_result"
    }
   ],
   "source": [
    "repstring('abca',10)"
   ]
  },
  {
   "cell_type": "code",
   "execution_count": 27,
   "metadata": {},
   "outputs": [],
   "source": [
    "def left_shift(a,m):\n",
    "    if len(a) < m:\n",
    "        return -1\n",
    "    b = [0]*len(a)\n",
    "    for i in range(len(a)):\n",
    "        b[i-m] = a[i]\n",
    "    return b    "
   ]
  },
  {
   "cell_type": "code",
   "execution_count": 28,
   "metadata": {},
   "outputs": [
    {
     "data": {
      "text/plain": [
       "-1"
      ]
     },
     "execution_count": 28,
     "metadata": {},
     "output_type": "execute_result"
    }
   ],
   "source": [
    "left_shift([1,2,3,4,5],6)"
   ]
  },
  {
   "cell_type": "code",
   "execution_count": 35,
   "metadata": {},
   "outputs": [],
   "source": [
    "def utopianTree(n):\n",
    "    count = 1\n",
    "    if n == 0:\n",
    "        return 1\n",
    "    for i in range(1,n+1):\n",
    "        if i%2 == 0:\n",
    "            count +=1\n",
    "        else:\n",
    "            count *=2\n",
    "    return count  "
   ]
  },
  {
   "cell_type": "code",
   "execution_count": 37,
   "metadata": {},
   "outputs": [
    {
     "data": {
      "text/plain": [
       "6"
      ]
     },
     "execution_count": 37,
     "metadata": {},
     "output_type": "execute_result"
    }
   ],
   "source": [
    "utopianTree(3)"
   ]
  },
  {
   "cell_type": "code",
   "execution_count": 66,
   "metadata": {},
   "outputs": [],
   "source": [
    "#missimg no. finding except case [1,2,3,4] h == n every element is same\n",
    "def missingno(n):\n",
    "    try:\n",
    "        h = [i for i in range(1,len(n)+1)]\n",
    "        for i in range(len(n)):\n",
    "            if n[i] <=0 :\n",
    "                continue\n",
    "            if n[i] in h:\n",
    "                h.remove(n[i])\n",
    "                if h == []:\n",
    "                    return 2\n",
    "        return min(h)\n",
    "    except:\n",
    "        return 1"
   ]
  },
  {
   "cell_type": "code",
   "execution_count": 9,
   "metadata": {},
   "outputs": [],
   "source": [
    "h =  [1]"
   ]
  },
  {
   "cell_type": "code",
   "execution_count": 68,
   "metadata": {},
   "outputs": [
    {
     "data": {
      "text/plain": [
       "9"
      ]
     },
     "execution_count": 68,
     "metadata": {},
     "output_type": "execute_result"
    }
   ],
   "source": [
    "missingno([1,2,3,5,1000,400,7,6,5,4,3,2,1,0,8])"
   ]
  },
  {
   "cell_type": "code",
   "execution_count": null,
   "metadata": {},
   "outputs": [],
   "source": [
    "def missingno(n):\n",
    "    h = [i for i in range(1,len(n)+1)]\n",
    "    for i in range(len(n)):\n",
    "        if n[i] == 0 and n[i] == -1*n[i]:\n",
    "            continue\n",
    "        if n[i] in h:\n",
    "            h.remove(n[i])\n",
    "    return h        "
   ]
  },
  {
   "cell_type": "code",
   "execution_count": 78,
   "metadata": {},
   "outputs": [],
   "source": [
    "def arrive(n,k):\n",
    "    count = 0\n",
    "    for i in range(len(n)):\n",
    "        if n[i] <= 0:\n",
    "            count +=1\n",
    "            if count >= k:\n",
    "                return \"NO\"\n",
    "    return \"YES\""
   ]
  },
  {
   "cell_type": "code",
   "execution_count": 79,
   "metadata": {},
   "outputs": [
    {
     "data": {
      "text/plain": [
       "'YES'"
      ]
     },
     "execution_count": 79,
     "metadata": {},
     "output_type": "execute_result"
    }
   ],
   "source": [
    "arrive([-3,-1,4,2],3)"
   ]
  },
  {
   "cell_type": "code",
   "execution_count": 81,
   "metadata": {},
   "outputs": [
    {
     "data": {
      "text/plain": [
       "'NO'"
      ]
     },
     "execution_count": 81,
     "metadata": {},
     "output_type": "execute_result"
    }
   ],
   "source": [
    "arrive([1,1,-3,0],2)"
   ]
  },
  {
   "cell_type": "code",
   "execution_count": null,
   "metadata": {},
   "outputs": [],
   "source": [
    "# A complete working Python program to demonstrate all \n",
    "# insertion methods of linked list \n",
    "\n",
    "# Node class \n",
    "class Node: \n",
    "\n",
    "\t# Function to initialise the node object \n",
    "\tdef __init__(self, data): \n",
    "\t\tself.data = data # Assign data \n",
    "\t\tself.next = None # Initialize next as null \n",
    "\n",
    "\n",
    "# Linked List class contains a Node object \n",
    "class LinkedList: \n",
    "\n",
    "\t# Function to initialize head \n",
    "\tdef __init__(self): \n",
    "\t\tself.head = None\n",
    "\n",
    "\n",
    "\t# Functio to insert a new node at the beginning \n",
    "\tdef push(self, new_data): \n",
    "\n",
    "\t\t# 1 & 2: Allocate the Node & \n",
    "\t\t#\t Put in the data \n",
    "\t\tnew_node = Node(new_data) \n",
    "\n",
    "\t\t# 3. Make next of new Node as head \n",
    "\t\tnew_node.next = self.head \n",
    "\n",
    "\t\t# 4. Move the head to point to new Node \n",
    "\t\tself.head = new_node \n",
    "\n",
    "\n",
    "\t# This function is in LinkedList class. Inserts a \n",
    "\t# new node after the given prev_node. This method is \n",
    "\t# defined inside LinkedList class shown above */ \n",
    "\tdef insertAfter(self, prev_node, new_data): \n",
    "\n",
    "\t\t# 1. check if the given prev_node exists \n",
    "\t\tif prev_node is None: \n",
    "\t\t\tprint (\"The given previous node must inLinkedList.\")\n",
    "\t\t\treturn\n",
    "\n",
    "\t\t# 2. create new node & \n",
    "\t\t#\t Put in the data \n",
    "\t\tnew_node = Node(new_data) \n",
    "\n",
    "\t\t# 4. Make next of new Node as next of prev_node \n",
    "\t\tnew_node.next = prev_node.next\n",
    "\n",
    "\t\t# 5. make next of prev_node as new_node \n",
    "\t\tprev_node.next = new_node \n",
    "\n",
    "\n",
    "\t# This function is defined in Linked List class \n",
    "\t# Appends a new node at the end. This method is \n",
    "\t# defined inside LinkedList class shown above */ \n",
    "\tdef append(self, new_data): \n",
    "\n",
    "\t\t# 1. Create a new node \n",
    "\t\t# 2. Put in the data \n",
    "\t\t# 3. Set next as None \n",
    "\t\tnew_node = Node(new_data) \n",
    "\n",
    "\t\t# 4. If the Linked List is empty, then make the \n",
    "\t\t# new node as head \n",
    "\t\tif self.head is None: \n",
    "\t\t\tself.head = new_node \n",
    "\t\t\treturn\n",
    "\n",
    "\t\t# 5. Else traverse till the last node \n",
    "\t\tlast = self.head \n",
    "\t\twhile (last.next): \n",
    "\t\t\tlast = last.next\n",
    "\n",
    "\t\t# 6. Change the next of last node \n",
    "\t\tlast.next = new_node \n",
    "\n",
    "\n",
    "\t# Utility function to print the linked list \n",
    "\tdef printList(self): \n",
    "\t\ttemp = self.head \n",
    "\t\twhile (temp): \n",
    "\t\t\tprint (temp.data )\n",
    "\t\t\ttemp = temp.next\n",
    "\n",
    "\n",
    "\n",
    "# Code execution starts here \n",
    "if __name__=='__main__': \n",
    "\n",
    "\t# Start with the empty list \n",
    "\tllist = LinkedList() \n",
    "\n",
    "\t# Insert 6. So linked list becomes 6->None \n",
    "\tllist.append(6) \n",
    "\n",
    "\t# Insert 7 at the beginning. So linked list becomes 7->6->None \n",
    "\tllist.push(7); \n",
    "\n",
    "\t# Insert 1 at the beginning. So linked list becomes 1->7->6->None \n",
    "\tllist.push(1); \n",
    "\n",
    "\t# Insert 4 at the end. So linked list becomes 1->7->6->4->None \n",
    "\tllist.append(4) \n",
    "\n",
    "\t# Insert 8, after 7. So linked list becomes 1 -> 7-> 8-> 6-> 4-> None \n",
    "\tllist.insertAfter(llist.head.next, 8) \n",
    "\n",
    "\tprint ('Created linked list is:', )\n",
    "\tllist.printList() \n",
    "\n",
    "# This code is contributed by Manikantan Narasimhan \n"
   ]
  },
  {
   "cell_type": "code",
   "execution_count": 85,
   "metadata": {},
   "outputs": [],
   "source": [
    "def beautifulday(i,j,k):\n",
    "    count = 0\n",
    "    for i in range(i,j+1):\n",
    "        if abs(i-reverse(i))%k == 0:\n",
    "            count +=1\n",
    "    return count       "
   ]
  },
  {
   "cell_type": "code",
   "execution_count": 88,
   "metadata": {},
   "outputs": [
    {
     "data": {
      "text/plain": [
       "4"
      ]
     },
     "execution_count": 88,
     "metadata": {},
     "output_type": "execute_result"
    }
   ],
   "source": [
    "beautifulday(21,28,6)"
   ]
  },
  {
   "cell_type": "code",
   "execution_count": 93,
   "metadata": {},
   "outputs": [],
   "source": [
    "def isPalindrome(x):\n",
    "        reverse  = 0\n",
    "        p = x\n",
    "        while p > 0:\n",
    "            rem = p%10\n",
    "            reverse = (reverse*10) + rem\n",
    "            p //=10\n",
    "        if x<0:\n",
    "            return 'false'\n",
    "        if reverse == x:\n",
    "            return 'true'\n",
    "        else:\n",
    "            return 'false'"
   ]
  },
  {
   "cell_type": "code",
   "execution_count": 95,
   "metadata": {},
   "outputs": [
    {
     "data": {
      "text/plain": [
       "'false'"
      ]
     },
     "execution_count": 95,
     "metadata": {},
     "output_type": "execute_result"
    }
   ],
   "source": [
    "isPalindrome(-121)"
   ]
  },
  {
   "cell_type": "code",
   "execution_count": 100,
   "metadata": {},
   "outputs": [],
   "source": [
    "a =  str(122)"
   ]
  },
  {
   "cell_type": "code",
   "execution_count": 102,
   "metadata": {},
   "outputs": [
    {
     "data": {
      "text/plain": [
       "'221'"
      ]
     },
     "execution_count": 102,
     "metadata": {},
     "output_type": "execute_result"
    }
   ],
   "source": [
    "a[::-1]"
   ]
  },
  {
   "cell_type": "code",
   "execution_count": 136,
   "metadata": {},
   "outputs": [],
   "source": [
    "ans = []\n",
    "target = 8\n",
    "def dfs(nums, curr_set, curr_sum):\n",
    "        for i in range(len(nums)):\n",
    "            temp_sum = nums[i] + curr_sum\n",
    "            if temp_sum == target:\n",
    "                ans.append(curr_set + [nums[i]])\n",
    "            elif temp_sum > target:\n",
    "                return\n",
    "            else:\n",
    "                dfs(nums[i:], curr_set + [nums[i]], temp_sum)\n",
    "        \n"
   ]
  },
  {
   "cell_type": "code",
   "execution_count": 137,
   "metadata": {},
   "outputs": [],
   "source": [
    "dfs([2,3,5], [], 0)"
   ]
  },
  {
   "cell_type": "code",
   "execution_count": 138,
   "metadata": {},
   "outputs": [
    {
     "data": {
      "text/plain": [
       "[[2, 2, 2, 2], [2, 3, 3], [3, 5]]"
      ]
     },
     "execution_count": 138,
     "metadata": {},
     "output_type": "execute_result"
    }
   ],
   "source": [
    "ans"
   ]
  },
  {
   "cell_type": "code",
   "execution_count": 8,
   "metadata": {},
   "outputs": [],
   "source": [
    "def twonumber(l1,l2):\n",
    "    carry = 0\n",
    "    for i in range(len(l1)):\n",
    "        l1[i] = l1[i] + l2[i]\n",
    "        if l1[i] >=10:\n",
    "            carry = \n",
    "            l1[i+1] =  + l1[i+1]\n",
    "    return l1    "
   ]
  },
  {
   "cell_type": "code",
   "execution_count": 9,
   "metadata": {},
   "outputs": [
    {
     "data": {
      "text/plain": [
       "[7, 10, 8]"
      ]
     },
     "execution_count": 9,
     "metadata": {},
     "output_type": "execute_result"
    }
   ],
   "source": [
    "twonumber([2,6,4],[5,4,3])"
   ]
  },
  {
   "cell_type": "code",
   "execution_count": 21,
   "metadata": {},
   "outputs": [],
   "source": [
    "def prant(expr):\n",
    "   \n",
    "    s = [];  \n",
    "  \n",
    "    # Traversing the Expression  \n",
    "    for i in range(len(expr)) : \n",
    "  \n",
    "        if (expr[i] == '(' or \n",
    "            expr[i] == '[' or expr[i] == '{') : \n",
    "  \n",
    "            # Push the element in the stack  \n",
    "            s.append(expr[i]);  \n",
    "            continue;  \n",
    "  \n",
    "        # IF current character is not opening  \n",
    "        # bracket, then it must be closing.   \n",
    "        # So stack cannot be empty at this point.  \n",
    "        if (len(s) == 0) : \n",
    "            return False;  \n",
    "  \n",
    "        if expr[i] == ')' : \n",
    "  \n",
    "            # Store the top element in a  \n",
    "            x = s.pop(); \n",
    "              \n",
    "            if (x == '{' or x == '[') : \n",
    "                return False;  \n",
    "  \n",
    "        elif expr[i] == '}':  \n",
    "  \n",
    "            # Store the top element in b  \n",
    "            x = s.pop(); \n",
    "              \n",
    "            if (x == '(' or x == '[') : \n",
    "                return False;  \n",
    "          \n",
    "        elif expr[i] == ']':  \n",
    "  \n",
    "            # Store the top element in c  \n",
    "            x = s.pop(); \n",
    "              \n",
    "            if (x =='(' or x == '{') : \n",
    "                return False;  \n",
    "  \n",
    "    # Check Empty Stack  \n",
    "    if len(s) : \n",
    "        return True\n",
    "    else : \n",
    "        return False"
   ]
  },
  {
   "cell_type": "code",
   "execution_count": null,
   "metadata": {},
   "outputs": [],
   "source": []
  },
  {
   "cell_type": "code",
   "execution_count": 37,
   "metadata": {},
   "outputs": [],
   "source": [
    "def valid(s):\n",
    "    stack = []\n",
    "    for i in s:\n",
    "        if (i == '(' or i == '{' or i == '['):\n",
    "            stack.append(i)\n",
    "        elif (i== ')' and len(stack) != 0 and stack[-1] == '('):\n",
    "            stack.pop()\n",
    "        elif (i== '}' and len(stack) != 0 and stack[-1] == '{'):\n",
    "            stack.pop()\n",
    "        elif (i== ']' and len(stack) != 0 and stack[-1] == '['):\n",
    "            stack.pop()\n",
    "        else:\n",
    "            return False\n",
    "        \n",
    "    return (len(stack)==0)    "
   ]
  },
  {
   "cell_type": "code",
   "execution_count": 39,
   "metadata": {},
   "outputs": [
    {
     "data": {
      "text/plain": [
       "False"
      ]
     },
     "execution_count": 39,
     "metadata": {},
     "output_type": "execute_result"
    }
   ],
   "source": [
    "valid('()]')"
   ]
  },
  {
   "cell_type": "code",
   "execution_count": 43,
   "metadata": {},
   "outputs": [],
   "source": [
    "def longperfix(s):\n",
    "    seq = ''\n",
    "    if len(s)==0:\n",
    "        return seq\n",
    "    index = 0\n",
    "    for i in s[0]:\n",
    "        for j in range(1,len(s)):\n",
    "            if index >= len(s[j]) or i != s[j][index] :\n",
    "                return seq\n",
    "        seq += i \n",
    "        index +=1\n",
    "    return seq    "
   ]
  },
  {
   "cell_type": "code",
   "execution_count": 44,
   "metadata": {},
   "outputs": [
    {
     "data": {
      "text/plain": [
       "'fl'"
      ]
     },
     "execution_count": 44,
     "metadata": {},
     "output_type": "execute_result"
    }
   ],
   "source": [
    "longperfix([\"flower\",\"flow\",\"flight\"])"
   ]
  },
  {
   "cell_type": "code",
   "execution_count": 68,
   "metadata": {},
   "outputs": [],
   "source": [
    "s = [[1,1,0]]"
   ]
  },
  {
   "cell_type": "code",
   "execution_count": 69,
   "metadata": {},
   "outputs": [
    {
     "data": {
      "text/plain": [
       "[0, 1, 1]"
      ]
     },
     "execution_count": 69,
     "metadata": {},
     "output_type": "execute_result"
    }
   ],
   "source": [
    "s[0][::-1]"
   ]
  },
  {
   "cell_type": "code",
   "execution_count": 81,
   "metadata": {},
   "outputs": [],
   "source": [
    "def image(s):\n",
    "    h = [0]\n",
    "    for i in s:\n",
    "        for j in i[::-1]:\n",
    "            return 1-j            "
   ]
  },
  {
   "cell_type": "code",
   "execution_count": 82,
   "metadata": {},
   "outputs": [
    {
     "data": {
      "text/plain": [
       "1"
      ]
     },
     "execution_count": 82,
     "metadata": {},
     "output_type": "execute_result"
    }
   ],
   "source": [
    "image([[1,1,0],[1,0,1],[0,0,0]])"
   ]
  },
  {
   "cell_type": "code",
   "execution_count": 79,
   "metadata": {},
   "outputs": [],
   "source": [
    "def flip(A):\n",
    "    return [[1-x for x in row[::-1] ] for row in A]"
   ]
  },
  {
   "cell_type": "code",
   "execution_count": 80,
   "metadata": {},
   "outputs": [
    {
     "data": {
      "text/plain": [
       "[[1, 0, 0], [0, 1, 0], [1, 1, 1]]"
      ]
     },
     "execution_count": 80,
     "metadata": {},
     "output_type": "execute_result"
    }
   ],
   "source": [
    "flip([[1,1,0],[1,0,1],[0,0,0]])"
   ]
  },
  {
   "cell_type": "code",
   "execution_count": 2,
   "metadata": {},
   "outputs": [
    {
     "data": {
      "text/plain": [
       "'hello'"
      ]
     },
     "execution_count": 2,
     "metadata": {},
     "output_type": "execute_result"
    }
   ],
   "source": [
    "s = \"HELLO\"\n",
    "s.lower()"
   ]
  },
  {
   "cell_type": "code",
   "execution_count": 3,
   "metadata": {},
   "outputs": [],
   "source": [
    "morse = [\".-\",\"-...\",\"-.-.\",\"-..\",\".\",\"..-.\",\"--.\",\"....\",\"..\",\".---\",\"-.-\",\".-..\",\"--\",\"-.\",\"---\",\".--.\",\"--.-\",\".-.\",\"...\",\"-\",\"..-\",\"...-\",\".--\",\"-..-\",\"-.--\",\"--..\"]"
   ]
  },
  {
   "cell_type": "code",
   "execution_count": 3,
   "metadata": {},
   "outputs": [
    {
     "name": "stdout",
     "output_type": "stream",
     "text": [
      "{1, 2, 4, 6, 8}\n"
     ]
    }
   ],
   "source": []
  },
  {
   "cell_type": "code",
   "execution_count": 22,
   "metadata": {},
   "outputs": [],
   "source": [
    "def lcs(s):\n",
    "    h = {}\n",
    "    long =  0\n",
    "    for i in s:\n",
    "        h.add(i)\n",
    "    for num in h:\n",
    "        if (num -1):return\n",
    "        else:\n",
    "            curr = num \n",
    "            count = 1\n",
    "            while :\n",
    "                curr += 1\n",
    "                count +=1\n",
    "            long = max(long,count)\n",
    "    return long        "
   ]
  },
  {
   "cell_type": "code",
   "execution_count": 27,
   "metadata": {},
   "outputs": [],
   "source": [
    "def lsc(s):\n",
    "    h = []\n",
    "    s = sorted(s)\n",
    "    for i in range(len(s)):\n",
    "        if s[i]-1==0:\n",
    "            h.append(1)\n",
    "        elif s[i]+1 in s:\n",
    "            h.append(s[i])\n",
    "    return h        "
   ]
  },
  {
   "cell_type": "code",
   "execution_count": 29,
   "metadata": {},
   "outputs": [
    {
     "data": {
      "text/plain": [
       "[2, 3]"
      ]
     },
     "execution_count": 29,
     "metadata": {},
     "output_type": "execute_result"
    }
   ],
   "source": [
    "lsc([2,6,9,4,3])"
   ]
  },
  {
   "cell_type": "code",
   "execution_count": 24,
   "metadata": {},
   "outputs": [],
   "source": [
    "lcs([2,1,6,9,5,3])"
   ]
  },
  {
   "cell_type": "code",
   "execution_count": 2,
   "metadata": {},
   "outputs": [],
   "source": [
    "def match(set1):\n",
    "    output = []\n",
    "    for st in set1:\n",
    "        if st[0]=='d' and st[1]=='e':\n",
    "            output.append(st)\n",
    "    return output        "
   ]
  },
  {
   "cell_type": "code",
   "execution_count": 3,
   "metadata": {},
   "outputs": [
    {
     "data": {
      "text/plain": [
       "['deer', 'deal']"
      ]
     },
     "execution_count": 3,
     "metadata": {},
     "output_type": "execute_result"
    }
   ],
   "source": [
    "match(['dog','deer','deal'])"
   ]
  },
  {
   "cell_type": "code",
   "execution_count": 13,
   "metadata": {},
   "outputs": [],
   "source": [
    "def gen(graph):\n",
    "    edges = []\n",
    "    for node,edge in graph.items():\n",
    "        edges.append((node,edge))\n",
    "    return edges    "
   ]
  },
  {
   "cell_type": "code",
   "execution_count": 14,
   "metadata": {},
   "outputs": [
    {
     "data": {
      "text/plain": [
       "[('a', ['c']), ('b', ['a', 'c'])]"
      ]
     },
     "execution_count": 14,
     "metadata": {},
     "output_type": "execute_result"
    }
   ],
   "source": [
    "gen({'a':['c'],'b':['a','c']})"
   ]
  },
  {
   "cell_type": "code",
   "execution_count": 87,
   "metadata": {},
   "outputs": [],
   "source": [
    "#linked list\n",
    "class Node:\n",
    "    def __init__(self,data=None):\n",
    "        self.data= data\n",
    "        self.next= None\n",
    "class linked_list:\n",
    "    \n",
    "    def __init__(self):\n",
    "        self.head= None\n",
    "    \n",
    "    def append1(self,data):\n",
    "        new_node = Node(data)\n",
    "        if self.head is None: \n",
    "            self.head = new_node \n",
    "            return\n",
    "        cur = self.head\n",
    "        while cur.next != None:\n",
    "            cur = cur.next\n",
    "        cur.next = new_node\n",
    "\n",
    "    def length(self):\n",
    "        cur = self.head\n",
    "        total = 0\n",
    "        while cur:\n",
    "            total += 1\n",
    "            cur = cur.next\n",
    "        return total\n",
    "    \n",
    "    def display(self):\n",
    "        element = []\n",
    "        cur = self.head\n",
    "        while cur:\n",
    "            element.append(cur.data)\n",
    "            cur =  cur.next\n",
    "        return element    \n",
    "    \n",
    "    def get(self,index):\n",
    "        if index>= self.length():\n",
    "            print(\"ERROR: Index out of range\")\n",
    "        idx = 1\n",
    "        cur = self.head\n",
    "        while True:\n",
    "            if idx== index:\n",
    "                return cur.data\n",
    "            cur = cur.next\n",
    "            idx +=1\n",
    "      \n",
    "    \n",
    "#  earse functions\n",
    "#at the beginning \n",
    "    def start(self):\n",
    "        if self.head is None:\n",
    "            return None\n",
    "        self.head = self.head.next\n",
    "# at the end\n",
    "    def end(self):\n",
    "        if self.head is None:\n",
    "            return None\n",
    "        cur = self.head\n",
    "        while cur.next.next is not None:\n",
    "            cur =  cur.next\n",
    "        cur.next = None\n",
    "# at specific position        \n",
    "    def earse(self,index):\n",
    "        if index>= self.length():\n",
    "            print(\"ERROR: Index out of range\")   \n",
    "        idx = 1\n",
    "        cur = self.head\n",
    "        last = None\n",
    "        while True:\n",
    "            if idx== index:\n",
    "                if last is not None:\n",
    "                    last.next = cur.next\n",
    "                    return\n",
    "            last = cur\n",
    "            cur = cur.next\n",
    "            idx +=1\n",
    "            \n",
    "            \n",
    "    def insert(self,data):\n",
    "        new_node = Node(data)\n",
    "        new_node.next = self.head\n",
    "        self.head =new_node\n",
    "        \n",
    "    def insert1(self,data,index):\n",
    "        new_node = Node(data)\n",
    "        cur = self.head\n",
    "        idx= 1\n",
    "        while True:\n",
    "            pre = cur\n",
    "            if pre is None:\n",
    "                return\n",
    "            cur = cur.next\n",
    "            if idx == index:\n",
    "                pre.next = new_node\n",
    "                new_node.next = cur\n",
    "            idx +=1    "
   ]
  },
  {
   "cell_type": "code",
   "execution_count": 88,
   "metadata": {},
   "outputs": [
    {
     "data": {
      "text/plain": [
       "[]"
      ]
     },
     "execution_count": 88,
     "metadata": {},
     "output_type": "execute_result"
    }
   ],
   "source": [
    "my = linked_list()\n",
    "my.display()"
   ]
  },
  {
   "cell_type": "code",
   "execution_count": 89,
   "metadata": {},
   "outputs": [],
   "source": [
    "my = linked_list()\n",
    "my.append1(2)\n",
    "my.append1(3)\n",
    "my.insert(6)"
   ]
  },
  {
   "cell_type": "code",
   "execution_count": 90,
   "metadata": {},
   "outputs": [
    {
     "data": {
      "text/plain": [
       "3"
      ]
     },
     "execution_count": 90,
     "metadata": {},
     "output_type": "execute_result"
    }
   ],
   "source": [
    "\n",
    "my.length()"
   ]
  },
  {
   "cell_type": "code",
   "execution_count": 91,
   "metadata": {},
   "outputs": [
    {
     "data": {
      "text/plain": [
       "[6, 7, 2, 3]"
      ]
     },
     "execution_count": 91,
     "metadata": {},
     "output_type": "execute_result"
    }
   ],
   "source": [
    "my.insert1(7,1)\n",
    "my.display()"
   ]
  },
  {
   "cell_type": "code",
   "execution_count": 92,
   "metadata": {},
   "outputs": [
    {
     "data": {
      "text/plain": [
       "2"
      ]
     },
     "execution_count": 92,
     "metadata": {},
     "output_type": "execute_result"
    }
   ],
   "source": [
    "my.get(3)"
   ]
  },
  {
   "cell_type": "code",
   "execution_count": 93,
   "metadata": {},
   "outputs": [],
   "source": [
    "my.earse(2)"
   ]
  },
  {
   "cell_type": "code",
   "execution_count": 94,
   "metadata": {},
   "outputs": [],
   "source": [
    "my.start()"
   ]
  },
  {
   "cell_type": "code",
   "execution_count": 95,
   "metadata": {},
   "outputs": [
    {
     "data": {
      "text/plain": [
       "[2, 3]"
      ]
     },
     "execution_count": 95,
     "metadata": {},
     "output_type": "execute_result"
    }
   ],
   "source": [
    "my.display()"
   ]
  },
  {
   "cell_type": "code",
   "execution_count": 65,
   "metadata": {},
   "outputs": [],
   "source": [
    "# Doubly Linked List\n",
    "class Node:\n",
    "    def __init__(self,data):\n",
    "        self.data = data\n",
    "        self.pre_node = None\n",
    "        self.next = None\n",
    "\n",
    "class doubly:\n",
    "    def __init__(self):\n",
    "        self.head = None\n",
    "     \n",
    "    def travese(self):\n",
    "        cur = self.head\n",
    "        element = []\n",
    "        # loop through list\n",
    "        while cur is not None:\n",
    "            element.append(cur.data)\n",
    "            cur = cur.next\n",
    "        return element    \n",
    "    \n",
    "    def length(self):\n",
    "        cur = self.head\n",
    "        total = 0\n",
    "        while cur is not None:\n",
    "            total +=1\n",
    "            cur = cur.next\n",
    "        return total\n",
    "    \n",
    "    # at the begining of doubly linked list\n",
    "    def insert_start(self,data):\n",
    "        new_node = Node(data)\n",
    "        \n",
    "        new_node.next  = self.head \n",
    "        new_node.pre_node = None\n",
    "        if self.head is not None:\n",
    "            self.head.pre_node = new_node\n",
    "        \n",
    "        self.head = new_node\n",
    "        \n",
    "    def insert_end(self,data):\n",
    "        new_node = Node(data)\n",
    "        cur = self.head\n",
    "        new_node.next = None\n",
    "        \n",
    "        if self.head is None:\n",
    "            new_node.pre_node = None\n",
    "            self.head = new_node\n",
    "            return\n",
    "        \n",
    "        while cur.next is not None:\n",
    "            cur = cur.next\n",
    "            \n",
    "        cur.next = new_node\n",
    "        new_node.pre_node = cur\n",
    "     \n",
    "    def insert_pos(self,data,index):\n",
    "        new_node = Node(data)\n",
    "        cur = self.head\n",
    "        idx = 1\n",
    "        while True:\n",
    "            pre = cur\n",
    "            if pre is None:\n",
    "                return\n",
    "            cur = cur.next\n",
    "            if idx== index:\n",
    "                cur.next = new_node\n",
    "                new_node.pre_node = cur\n",
    "                new_node.next = cur.next\n",
    "                \n",
    "            idx +=1    "
   ]
  },
  {
   "cell_type": "code",
   "execution_count": 66,
   "metadata": {},
   "outputs": [],
   "source": [
    "list1 = doubly()\n",
    "\n",
    "list1.insert_start(15)\n",
    "list1.insert_start(12)\n",
    "list1.insert_start(11)\n",
    "list1.insert_start(1)\n",
    "list1.insert_end(56)\n",
    "list1.insert_start(26)"
   ]
  },
  {
   "cell_type": "code",
   "execution_count": 67,
   "metadata": {},
   "outputs": [
    {
     "data": {
      "text/plain": [
       "[26, 1, 11, 12, 15, 56]"
      ]
     },
     "execution_count": 67,
     "metadata": {},
     "output_type": "execute_result"
    }
   ],
   "source": [
    "list1.travese()"
   ]
  },
  {
   "cell_type": "code",
   "execution_count": 68,
   "metadata": {},
   "outputs": [],
   "source": [
    "list1.insert_pos(25,3)"
   ]
  },
  {
   "cell_type": "code",
   "execution_count": 69,
   "metadata": {},
   "outputs": [
    {
     "data": {
      "text/plain": [
       "[26, 1, 11, 12, 25]"
      ]
     },
     "execution_count": 69,
     "metadata": {},
     "output_type": "execute_result"
    }
   ],
   "source": [
    "list1.travese()"
   ]
  },
  {
   "cell_type": "code",
   "execution_count": 60,
   "metadata": {},
   "outputs": [],
   "source": [
    "a = [1,2,3]\n",
    "b = [2,6,4]"
   ]
  },
  {
   "cell_type": "code",
   "execution_count": 62,
   "metadata": {},
   "outputs": [],
   "source": [
    "c = list(zip(a,b))"
   ]
  },
  {
   "cell_type": "code",
   "execution_count": 63,
   "metadata": {},
   "outputs": [
    {
     "data": {
      "text/plain": [
       "[(1, 2), (2, 6), (3, 4)]"
      ]
     },
     "execution_count": 63,
     "metadata": {},
     "output_type": "execute_result"
    }
   ],
   "source": [
    "c"
   ]
  },
  {
   "cell_type": "code",
   "execution_count": 38,
   "metadata": {},
   "outputs": [],
   "source": [
    "# Tree implementation\n",
    "class Node:\n",
    "    def __init__(self,data=None):\n",
    "        self.data = data\n",
    "        self.left_child = None\n",
    "        self.right_child = None\n",
    "        \n",
    "class tree:\n",
    "    def __init__(self):\n",
    "        self.root = None\n",
    "        \n",
    "    def insert(self,data):\n",
    "        if self.root is None:\n",
    "            self.root = Node(data)\n",
    "        else:\n",
    "            self._insert(data,self.root)\n",
    "    \n",
    "    def _insert(self,data,cur):\n",
    "        if data < cur.data:\n",
    "            if cur.left_child is None:\n",
    "                cur.left_child = Node(data)\n",
    "            else:\n",
    "                self._insert(data,cur.left_child)\n",
    "        elif data > cur.data:\n",
    "            if cur.right_child is None:\n",
    "                cur.right_child = Node(data)\n",
    "            else:\n",
    "                self._insert(data,cur.right_child)\n",
    "        else:\n",
    "            print(\" value already exist \")\n",
    "            \n",
    "    def print_tree(self):\n",
    "        if self.root is not None:\n",
    "            self._print_tree(self.root)\n",
    "            \n",
    "    def _print_tree(self,cur):\n",
    "        if cur is not None:\n",
    "            self._print_tree(cur.left_child)\n",
    "            print(str(cur.data))\n",
    "            self._print_tree(cur.right_child)\n",
    "            \n",
    "            \n",
    "    def height(self):\n",
    "        if self.root is not None:\n",
    "            return self._height(self.root,0)\n",
    "        else:\n",
    "            return 0\n",
    "    \n",
    "    def _height(self,cur,cur_height):\n",
    "        if cur is None: return cur_height\n",
    "        left_h = self._height(cur.left_child,cur_height+1)\n",
    "        right_h = self._height(cur.right_child,cur_height+1)\n",
    "        return max(left_h,right_h)\n",
    "    \n",
    "    def find(self,data):\n",
    "        if self.root is not None:\n",
    "            return self._find(data,self.root)\n",
    "        else:\n",
    "            return False\n",
    "    \n",
    "    def _find(self,data,cur):\n",
    "        if data == cur.data:\n",
    "            return True\n",
    "        elif data< cur.data and cur.left_child is not None:\n",
    "            return self._find(data,cur.left_child)\n",
    "        elif data > cur.data:\n",
    "            return self._find(data,cur.right_child)\n",
    "        else:\n",
    "            print(\"value doesn't exist\")\n",
    "    def  preorder(self):\n",
    "        if self.root is not None:\n",
    "            return self._preorder(self.root)\n",
    "    def _preorder(self,cur):\n",
    "        if cur is not None:\n",
    "            print(cur.data)\n",
    "            self._preorder(cur.left_child)\n",
    "            self._preorder(cur.right_child)\n",
    "    def postorder(self):\n",
    "        if self.root is not None:\n",
    "            return self._postorder(self.root)\n",
    "        \n",
    "    def _postorder(self,cur):\n",
    "        if cur is not None:\n",
    "            self._postorder(cur.left_child)\n",
    "            self._postorder(cur.right_child)\n",
    "            print(cur.data)\n",
    "    def BFS(self):\n",
    "        h = self.height()\n",
    "        i=1\n",
    "        while i<=h:\n",
    "            self._BFS(self.root,i)\n",
    "            i+=1\n",
    "    def _BFS(self,cur,level):\n",
    "        if cur is None:\n",
    "            return\n",
    "        if level==1:\n",
    "            print(cur.data)\n",
    "            \n",
    "        if level>1:\n",
    "            self._BFS(cur.left_child,level-1)\n",
    "            self._BFS(cur.right_child,level-1)\n",
    "            \n",
    "        \n",
    "    def delete(self,data):\n",
    "        return self.delete_node(self.find(data))"
   ]
  },
  {
   "cell_type": "code",
   "execution_count": 39,
   "metadata": {},
   "outputs": [],
   "source": [
    "tre = tree()"
   ]
  },
  {
   "cell_type": "code",
   "execution_count": 40,
   "metadata": {},
   "outputs": [],
   "source": [
    "tre.insert(40)\n",
    "tre.insert(20)\n",
    "tre.insert(10)\n",
    "tre.insert(5)\n",
    "tre.insert(30)\n",
    "tre.insert(50)\n",
    "tre.insert(60)\n",
    "tre.insert(67)\n",
    "tre.insert(78)"
   ]
  },
  {
   "cell_type": "code",
   "execution_count": 18,
   "metadata": {},
   "outputs": [],
   "source": [
    "tre.insert(5)\n",
    "tre.insert(2)\n",
    "tre.insert(1)\n",
    "tre.insert(6)\n",
    "tre.insert(3)\n",
    "tre.insert(20)\n",
    "tre.insert(10)"
   ]
  },
  {
   "cell_type": "code",
   "execution_count": 41,
   "metadata": {},
   "outputs": [
    {
     "name": "stdout",
     "output_type": "stream",
     "text": [
      "5\n",
      "10\n",
      "20\n",
      "30\n",
      "40\n",
      "50\n",
      "60\n",
      "67\n",
      "78\n"
     ]
    }
   ],
   "source": [
    "#in Inorder travesal the values are sorted(LPR): Left ,parent, right\n",
    "tre.print_tree()"
   ]
  },
  {
   "cell_type": "code",
   "execution_count": 42,
   "metadata": {},
   "outputs": [
    {
     "name": "stdout",
     "output_type": "stream",
     "text": [
      "40\n",
      "20\n",
      "10\n",
      "5\n",
      "30\n",
      "50\n",
      "60\n",
      "67\n",
      "78\n"
     ]
    }
   ],
   "source": [
    "tre.preorder()"
   ]
  },
  {
   "cell_type": "code",
   "execution_count": 43,
   "metadata": {},
   "outputs": [
    {
     "name": "stdout",
     "output_type": "stream",
     "text": [
      "5\n",
      "10\n",
      "30\n",
      "20\n",
      "78\n",
      "67\n",
      "60\n",
      "50\n",
      "40\n"
     ]
    }
   ],
   "source": [
    "tre.postorder()"
   ]
  },
  {
   "cell_type": "code",
   "execution_count": 44,
   "metadata": {},
   "outputs": [
    {
     "data": {
      "text/plain": [
       "5"
      ]
     },
     "execution_count": 44,
     "metadata": {},
     "output_type": "execute_result"
    }
   ],
   "source": [
    "tre.height()"
   ]
  },
  {
   "cell_type": "code",
   "execution_count": 45,
   "metadata": {},
   "outputs": [
    {
     "name": "stdout",
     "output_type": "stream",
     "text": [
      "40\n",
      "20\n",
      "50\n",
      "10\n",
      "30\n",
      "60\n",
      "5\n",
      "67\n",
      "78\n"
     ]
    }
   ],
   "source": [
    "tre.BFS()"
   ]
  },
  {
   "cell_type": "code",
   "execution_count": null,
   "metadata": {},
   "outputs": [],
   "source": []
  },
  {
   "cell_type": "code",
   "execution_count": 32,
   "metadata": {},
   "outputs": [],
   "source": [
    "class node:\n",
    "\tdef __init__(self,value=None):\n",
    "\t\tself.value=value\n",
    "\t\tself.left_child=None\n",
    "\t\tself.right_child=None\n",
    "\t\t#self.parent=None # pointer to parent node in tree\n",
    "\n",
    "class binary_search_tree:\n",
    "\tdef __init__(self):\n",
    "\t\tself.root=None\n",
    "\n",
    "\tdef insert(self,value):\n",
    "\t\tif self.root==None:\n",
    "\t\t\tself.root=node(value)\n",
    "\t\telse:\n",
    "\t\t\tself._insert(value,self.root)\n",
    "\n",
    "\tdef _insert(self,value,cur_node):\n",
    "\t\tif value<cur_node.value:\n",
    "\t\t\tif cur_node.left_child==None:\n",
    "\t\t\t\tcur_node.left_child=node(value)\n",
    "\t\t\t\t#cur_node.left_child.parent=cur_node # set parent\n",
    "\t\t\telse:\n",
    "\t\t\t\tself._insert(value,cur_node.left_child)\n",
    "\t\telif value>cur_node.value:\n",
    "\t\t\tif cur_node.right_child==None:\n",
    "\t\t\t\tcur_node.right_child=node(value)\n",
    "\t\t\t\t#cur_node.right_child.parent=cur_node # set parent\n",
    "\t\t\telse:\n",
    "\t\t\t\tself._insert(value,cur_node.right_child)\n",
    "\t\telse:\n",
    "\t\t\tprint(\"Value already in tree!\")\n",
    "\n",
    "\tdef print_tree(self):\n",
    "\t\tif self.root!=None:\n",
    "\t\t\tself._print_tree(self.root)\n",
    "\n",
    "\tdef _print_tree(self,cur_node):\n",
    "\t\tif cur_node!=None:\n",
    "\t\t\tself._print_tree(cur_node.left_child)\n",
    "\t\t\tprint (str(cur_node.value))\n",
    "\t\t\tself._print_tree(cur_node.right_child)\n",
    "\n",
    "\tdef height(self):\n",
    "\t\tif self.root!=None:\n",
    "\t\t\treturn self._height(self.root,0)\n",
    "\t\telse:\n",
    "\t\t\treturn 0\n",
    "\n",
    "\tdef _height(self,cur_node,cur_height):\n",
    "\t\tif cur_node==None: return cur_height\n",
    "\t\tleft_height=self._height(cur_node.left_child,cur_height+1)\n",
    "\t\tright_height=self._height(cur_node.right_child,cur_height+1)\n",
    "\t\treturn max(left_height,right_height)\n",
    "\n",
    "\tdef find(self,value):\n",
    "\t\tif self.root!=None:\n",
    "\t\t\treturn self._find(value,self.root)\n",
    "\t\telse:\n",
    "\t\t\treturn None\n",
    "\n",
    "\tdef _find(self,value,cur_node):\n",
    "\t\tif value==cur_node.value:\n",
    "\t\t\treturn cur_node\n",
    "\t\telif value<cur_node.value and cur_node.left_child!=None:\n",
    "\t\t\treturn self._find(value,cur_node.left_child)\n",
    "\t\telif value>cur_node.value and cur_node.right_child!=None:\n",
    "\t\t\treturn self._find(value,cur_node.right_child)\n",
    "\n",
    "\tdef delete_value(self,value):\n",
    "\t\treturn self.delete_node(self.find(value))\n",
    "\n",
    "\tdef delete_node(self,node):\n",
    "\n",
    "\t\t## -----\n",
    "\t\t# Improvements since prior lesson\n",
    "\n",
    "\t\t# Protect against deleting a node not found in the tree\n",
    "\t\tif node==None or self.find(node.value)==None:\n",
    "\t\t\tprint(\"Node to be deleted not found in the tree!\")\n",
    "\t\t\treturn None \n",
    "\t\t## -----\n",
    "\n",
    "\t\t# returns the node with min value in tree rooted at input node\n",
    "\t\tdef min_value_node(n):\n",
    "\t\t\tcurrent=n\n",
    "\t\t\twhile current.left_child!=None:\n",
    "\t\t\t\tcurrent=current.left_child\n",
    "\t\t\treturn current\n",
    "\n",
    "\t\t# returns the number of children for the specified node\n",
    "\t\tdef num_children(n):\n",
    "\t\t\tnum_children=0\n",
    "\t\t\tif n.left_child!=None: num_children+=1\n",
    "\t\t\tif n.right_child!=None: num_children+=1\n",
    "\t\t\treturn num_children\n",
    "\n",
    "\t\t# get the parent of the node to be deleted\n",
    "\t\tnode_parent=node.parent\n",
    "\n",
    "\t\t# get the number of children of the node to be deleted\n",
    "\t\tnode_children=num_children(node)\n",
    "\n",
    "\t\t# break operation into different cases based on the\n",
    "\t\t# structure of the tree & node to be deleted\n",
    "\n",
    "\t\t# CASE 1 (node has no children)\n",
    "\t\tif node_children==0:\n",
    "\n",
    "\t\t\t# Added this if statement post-video, previously if you \n",
    "\t\t\t# deleted the root node it would delete entire tree.\n",
    "\t\t\tif node_parent!=None:\n",
    "\t\t\t\t# remove reference to the node from the parent\n",
    "\t\t\t\tif node_parent.left_child==node:\n",
    "\t\t\t\t\tnode_parent.left_child=None\n",
    "\t\t\t\telse:\n",
    "\t\t\t\t\tnode_parent.right_child=None\n",
    "\t\t\telse:\n",
    "\t\t\t\tself.root=None\n",
    "\n",
    "\t\t# CASE 2 (node has a single child)\n",
    "\t\tif node_children==1:\n",
    "\n",
    "\t\t\t# get the single child node\n",
    "\t\t\tif node.left_child!=None:\n",
    "\t\t\t\tchild=node.left_child\n",
    "\t\t\telse:\n",
    "\t\t\t\tchild=node.right_child\n",
    "\n",
    "\t\t\t# Added this if statement post-video, previously if you \n",
    "\t\t\t# deleted the root node it would delete entire tree.\n",
    "\t\t\tif node_parent!=None:\n",
    "\t\t\t\t# replace the node to be deleted with its child\n",
    "\t\t\t\tif node_parent.left_child==node:\n",
    "\t\t\t\t\tnode_parent.left_child=child\n",
    "\t\t\t\telse:\n",
    "\t\t\t\t\tnode_parent.right_child=child\n",
    "\t\t\telse:\n",
    "\t\t\t\tself.root=child\n",
    "\n",
    "\t\t\t# correct the parent pointer in node\n",
    "\t\t\tchild.parent=node_parent\n",
    "\n",
    "\t\t# CASE 3 (node has two children)\n",
    "\t\tif node_children==2:\n",
    "\n",
    "\t\t\t# get the inorder successor of the deleted node\n",
    "\t\t\tsuccessor=min_value_node(node.right_child)\n",
    "\n",
    "\t\t\t# copy the inorder successor's value to the node formerly\n",
    "\t\t\t# holding the value we wished to delete\n",
    "\t\t\tnode.value=successor.value\n",
    "\n",
    "\t\t\t# delete the inorder successor now that it's value was\n",
    "\t\t\t# copied into the other node\n",
    "\t\t\tself.delete_node(successor)\n",
    "\n",
    "\tdef search(self,value):\n",
    "\t\tif self.root!=None:\n",
    "\t\t\treturn self._search(value,self.root)\n",
    "\t\telse:\n",
    "\t\t\treturn False\n",
    "\n",
    "\tdef _search(self,value,cur_node):\n",
    "\t\tif value==cur_node.value:\n",
    "\t\t\treturn True\n",
    "\t\telif value<cur_node.value and cur_node.left_child!=None:\n",
    "\t\t\treturn self._search(value,cur_node.left_child)\n",
    "\t\telif value>cur_node.value and cur_node.right_child!=None:\n",
    "\t\t\treturn self._search(value,cur_node.right_child)\n",
    "\t\treturn False "
   ]
  },
  {
   "cell_type": "code",
   "execution_count": 33,
   "metadata": {},
   "outputs": [],
   "source": [
    "tree = binary_search_tree()"
   ]
  },
  {
   "cell_type": "code",
   "execution_count": 34,
   "metadata": {},
   "outputs": [],
   "source": [
    "tree.insert(5)\n",
    "tree.insert(2)\n",
    "tree.insert(1)\n",
    "tree.insert(6)\n",
    "tree.insert(3)\n",
    "tree.insert(20)\n",
    "tree.insert(10)"
   ]
  },
  {
   "cell_type": "code",
   "execution_count": 35,
   "metadata": {},
   "outputs": [
    {
     "data": {
      "text/plain": [
       "4"
      ]
     },
     "execution_count": 35,
     "metadata": {},
     "output_type": "execute_result"
    }
   ],
   "source": [
    "tree.height()"
   ]
  },
  {
   "cell_type": "code",
   "execution_count": 37,
   "metadata": {},
   "outputs": [
    {
     "data": {
      "text/plain": [
       "<__main__.node at 0x7f2fe84c5fd0>"
      ]
     },
     "execution_count": 37,
     "metadata": {},
     "output_type": "execute_result"
    }
   ],
   "source": [
    "tree.find(10)"
   ]
  },
  {
   "cell_type": "code",
   "execution_count": null,
   "metadata": {},
   "outputs": [],
   "source": []
  }
 ],
 "metadata": {
  "kernelspec": {
   "display_name": "Python 3",
   "language": "python",
   "name": "python3"
  },
  "language_info": {
   "codemirror_mode": {
    "name": "ipython",
    "version": 3
   },
   "file_extension": ".py",
   "mimetype": "text/x-python",
   "name": "python",
   "nbconvert_exporter": "python",
   "pygments_lexer": "ipython3",
   "version": "3.6.8"
  }
 },
 "nbformat": 4,
 "nbformat_minor": 2
}
